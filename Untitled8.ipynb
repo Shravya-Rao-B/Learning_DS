{
 "cells": [
  {
   "cell_type": "code",
   "execution_count": 12,
   "metadata": {},
   "outputs": [
    {
     "name": "stdout",
     "output_type": "stream",
     "text": [
      "Enter any number from 1 to 10 :3\n",
      "You are impossible\n"
     ]
    }
   ],
   "source": [
    "p=int(input(\"Enter any number from 1 to 10 :\"))\n",
    "if p==1:\n",
    "    print('You are a beautiful soul')\n",
    "elif p==2:\n",
    "    print('You are an awesome person')\n",
    "elif p==3:\n",
    "    print('You are impossible')\n",
    "    "
   ]
  },
  {
   "cell_type": "code",
   "execution_count": 13,
   "metadata": {},
   "outputs": [],
   "source": [
    "st = 'Create a list of the first letters of every word in this string'"
   ]
  },
  {
   "cell_type": "code",
   "execution_count": 16,
   "metadata": {},
   "outputs": [
    {
     "data": {
      "text/plain": [
       "['C', 'a', 'l', 'o', 't', 'f', 'l', 'o', 'e', 'w', 'i', 't', 's']"
      ]
     },
     "execution_count": 16,
     "metadata": {},
     "output_type": "execute_result"
    }
   ],
   "source": [
    "sp=st.split()\n",
    "sa=[x[0] for x in sp]\n",
    "sa"
   ]
  },
  {
   "cell_type": "code",
   "execution_count": 17,
   "metadata": {},
   "outputs": [
    {
     "name": "stdout",
     "output_type": "stream",
     "text": [
      "1\n",
      "2\n",
      "Fizz\n",
      "4\n",
      "BuzzFizz\n",
      "Fizz\n",
      "7\n",
      "8\n",
      "Fizz\n",
      "BuzzFizz\n",
      "11\n",
      "Fizz\n",
      "13\n",
      "14\n",
      "Fizz\n",
      "16\n",
      "17\n",
      "Fizz\n",
      "19\n",
      "BuzzFizz\n",
      "Fizz\n",
      "22\n",
      "23\n",
      "Fizz\n",
      "BuzzFizz\n",
      "26\n",
      "Fizz\n",
      "28\n",
      "29\n",
      "Fizz\n",
      "31\n",
      "32\n",
      "Fizz\n",
      "34\n",
      "BuzzFizz\n",
      "Fizz\n",
      "37\n",
      "38\n",
      "Fizz\n",
      "BuzzFizz\n",
      "41\n",
      "Fizz\n",
      "43\n",
      "44\n",
      "Fizz\n",
      "46\n",
      "47\n",
      "Fizz\n",
      "49\n",
      "BuzzFizz\n",
      "Fizz\n",
      "52\n",
      "53\n",
      "Fizz\n",
      "BuzzFizz\n",
      "56\n",
      "Fizz\n",
      "58\n",
      "59\n",
      "Fizz\n",
      "61\n",
      "62\n",
      "Fizz\n",
      "64\n",
      "BuzzFizz\n",
      "Fizz\n",
      "67\n",
      "68\n",
      "Fizz\n",
      "BuzzFizz\n",
      "71\n",
      "Fizz\n",
      "73\n",
      "74\n",
      "Fizz\n",
      "76\n",
      "77\n",
      "Fizz\n",
      "79\n",
      "BuzzFizz\n",
      "Fizz\n",
      "82\n",
      "83\n",
      "Fizz\n",
      "BuzzFizz\n",
      "86\n",
      "Fizz\n",
      "88\n",
      "89\n",
      "Fizz\n",
      "91\n",
      "92\n",
      "Fizz\n",
      "94\n",
      "BuzzFizz\n",
      "Fizz\n",
      "97\n",
      "98\n",
      "Fizz\n"
     ]
    }
   ],
   "source": [
    "for x in range(1,100):\n",
    "    if x%3==0:\n",
    "        print('Fizz')\n",
    "    elif x%5==0:\n",
    "        print('BuzzFizz')\n",
    "    else:\n",
    "        print (x)"
   ]
  },
  {
   "cell_type": "code",
   "execution_count": null,
   "metadata": {},
   "outputs": [],
   "source": []
  },
  {
   "cell_type": "code",
   "execution_count": null,
   "metadata": {},
   "outputs": [],
   "source": []
  },
  {
   "cell_type": "code",
   "execution_count": null,
   "metadata": {},
   "outputs": [],
   "source": []
  }
 ],
 "metadata": {
  "kernelspec": {
   "display_name": "Python 3",
   "language": "python",
   "name": "python3"
  },
  "language_info": {
   "codemirror_mode": {
    "name": "ipython",
    "version": 3
   },
   "file_extension": ".py",
   "mimetype": "text/x-python",
   "name": "python",
   "nbconvert_exporter": "python",
   "pygments_lexer": "ipython3",
   "version": "3.6.5"
  }
 },
 "nbformat": 4,
 "nbformat_minor": 2
}
