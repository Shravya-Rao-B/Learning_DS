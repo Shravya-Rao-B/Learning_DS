{
 "cells": [
  {
   "cell_type": "code",
   "execution_count": 6,
   "metadata": {},
   "outputs": [
    {
     "name": "stdout",
     "output_type": "stream",
     "text": [
      "Enter the index to be removed: 3\n"
     ]
    },
    {
     "data": {
      "text/plain": [
       "'beatiful'"
      ]
     },
     "execution_count": 6,
     "metadata": {},
     "output_type": "execute_result"
    }
   ],
   "source": [
    "# 9. Write a Python program to remove the nth index character from a nonempty string\n",
    "string='beautiful'\n",
    "n=int(input(\"Enter the index to be removed: \"))\n",
    "a=string[:n]+string[n+1:]\n",
    "a"
   ]
  },
  {
   "cell_type": "code",
   "execution_count": 10,
   "metadata": {},
   "outputs": [
    {
     "data": {
      "text/plain": [
       "'nythop'"
      ]
     },
     "execution_count": 10,
     "metadata": {},
     "output_type": "execute_result"
    }
   ],
   "source": [
    "# 10.  Write a Python program to change a given string to a new string where the first and last chars have been exchanged\n",
    "string='python'\n",
    "a=string[0]\n",
    "b=len(string)\n",
    "c=string[b-1]\n",
    "d=string[1:b-1]\n",
    "e=c+d+a\n",
    "e\n"
   ]
  },
  {
   "cell_type": "code",
   "execution_count": 29,
   "metadata": {},
   "outputs": [
    {
     "name": "stdout",
     "output_type": "stream",
     "text": [
      "pto\n"
     ]
    }
   ],
   "source": [
    "# 11. Write a Python program to remove the characters which have odd index values of a given string\n",
    "string='python'\n",
    "b=''\n",
    "for x in string:\n",
    "    if string.find(x)%2==0:\n",
    "        a=string.find(x)\n",
    "        b=b+string[a]\n",
    "print (b)"
   ]
  },
  {
   "cell_type": "code",
   "execution_count": 37,
   "metadata": {},
   "outputs": [
    {
     "name": "stdout",
     "output_type": "stream",
     "text": [
      "{'hi': 9, 'hello': 2, 'help': 1}\n"
     ]
    }
   ],
   "source": [
    "#12. Write a Python program to count the occurrences of each word in a given sentence\n",
    "string='hi hi hi hi hi hi hi hi hello hello hi help'\n",
    "sp=string.split()\n",
    "count1={x:sp.count(x) for x in sp}\n",
    "print (count1)"
   ]
  },
  {
   "cell_type": "code",
   "execution_count": 38,
   "metadata": {},
   "outputs": [
    {
     "name": "stdout",
     "output_type": "stream",
     "text": [
      "Enter a string:Shravya\n",
      "SHRAVYA shravya\n"
     ]
    }
   ],
   "source": [
    "#13. Write a Python script that takes input from the user and displays that input back in upper and lower cases\n",
    "a=input(\"Enter a string:\")\n",
    "print (a.upper(), a.lower())"
   ]
  },
  {
   "cell_type": "code",
   "execution_count": 45,
   "metadata": {},
   "outputs": [
    {
     "data": {
      "text/plain": [
       "{'black', 'green', 'red', 'white'}"
      ]
     },
     "execution_count": 45,
     "metadata": {},
     "output_type": "execute_result"
    }
   ],
   "source": [
    "#14. Sample Words : red, white, black, red, green, black\n",
    "#Expected Result : black, green, red, white,red\n",
    "a=['red', 'white', 'black', 'red', 'green', 'black']\n",
    "b=set(a)\n",
    "b"
   ]
  },
  {
   "cell_type": "code",
   "execution_count": null,
   "metadata": {},
   "outputs": [],
   "source": [
    "#15. Write a Python function to create the HTML string with tags around the word(s)\n",
    "#add_tags('i', 'Python') -> '<i>Python</i>'\n",
    "#add_tags('b', 'Python Tutorial') -> '<b>Python Tutorial </b>'\n",
    "to do with wildcards"
   ]
  },
  {
   "cell_type": "code",
   "execution_count": 59,
   "metadata": {},
   "outputs": [],
   "source": [
    "#16 insert_sting_middle('[[]]<<>>', 'Python') -> [[Python]]\n",
    "#insert_sting_middle('{{}}', 'PHP') -> {{PHP}}\n",
    "\n",
    "#trying to insert to middle of [[]]\n",
    "\n",
    "def string_insert(string1,string2):\n",
    "    a=int(len(string1)/2)\n",
    "    b=string1[:2]+string2+string1[2:]\n",
    "    return b"
   ]
  },
  {
   "cell_type": "code",
   "execution_count": 61,
   "metadata": {},
   "outputs": [
    {
     "data": {
      "text/plain": [
       "'[[Python]]'"
      ]
     },
     "execution_count": 61,
     "metadata": {},
     "output_type": "execute_result"
    }
   ],
   "source": [
    "string_insert('[[]]','Python')"
   ]
  },
  {
   "cell_type": "code",
   "execution_count": 62,
   "metadata": {},
   "outputs": [
    {
     "data": {
      "text/plain": [
       "'{{PHP}}'"
      ]
     },
     "execution_count": 62,
     "metadata": {},
     "output_type": "execute_result"
    }
   ],
   "source": [
    "string_insert('{{}}', 'PHP')"
   ]
  },
  {
   "cell_type": "code",
   "execution_count": 69,
   "metadata": {},
   "outputs": [],
   "source": [
    "#17. insert_end('Python') -> onononon\n",
    "#insert_end('Exercises') -> eseseses\n",
    "def duplicating(string):\n",
    "    a=len(string)\n",
    "    b=string[a-2:]\n",
    "    return b*4"
   ]
  },
  {
   "cell_type": "code",
   "execution_count": 71,
   "metadata": {},
   "outputs": [
    {
     "data": {
      "text/plain": [
       "'onononon'"
      ]
     },
     "execution_count": 71,
     "metadata": {},
     "output_type": "execute_result"
    }
   ],
   "source": [
    "duplicating('python')"
   ]
  },
  {
   "cell_type": "code",
   "execution_count": 72,
   "metadata": {},
   "outputs": [],
   "source": [
    "#18.Write a Python function to get a string made of its first three characters of a specified string. \n",
    "#If the length of the string is less than 3 then return the original string. Go to the editor\n",
    "#Sample function and result : \n",
    "#first_three('ipy') -> ipy\n",
    "#first_three('python') -> pyt\n",
    "def return_three(string):\n",
    "    a=len(string)\n",
    "    if a<=3:\n",
    "        return string\n",
    "    else:\n",
    "        return string[:3]\n",
    "    "
   ]
  },
  {
   "cell_type": "code",
   "execution_count": 73,
   "metadata": {},
   "outputs": [
    {
     "data": {
      "text/plain": [
       "'pyt'"
      ]
     },
     "execution_count": 73,
     "metadata": {},
     "output_type": "execute_result"
    }
   ],
   "source": [
    "return_three('python')"
   ]
  },
  {
   "cell_type": "code",
   "execution_count": 76,
   "metadata": {},
   "outputs": [
    {
     "data": {
      "text/plain": [
       "'pit'"
      ]
     },
     "execution_count": 76,
     "metadata": {},
     "output_type": "execute_result"
    }
   ],
   "source": [
    "return_three('pit')"
   ]
  },
  {
   "cell_type": "code",
   "execution_count": 77,
   "metadata": {},
   "outputs": [
    {
     "data": {
      "text/plain": [
       "'pi'"
      ]
     },
     "execution_count": 77,
     "metadata": {},
     "output_type": "execute_result"
    }
   ],
   "source": [
    "return_three('pi')"
   ]
  },
  {
   "cell_type": "code",
   "execution_count": 97,
   "metadata": {},
   "outputs": [],
   "source": [
    "#19. Write a Python program to get the last part of a string before a specified character\n",
    "#https://www.w3resource.com/python-exercises --> https://www.w3resource.com/python\n",
    "def omit_last(a):\n",
    "    for x in a:\n",
    "        if x.isalpha()==False:\n",
    "            c=a.find(x)\n",
    "    print (a[:c])"
   ]
  },
  {
   "cell_type": "code",
   "execution_count": 98,
   "metadata": {},
   "outputs": [
    {
     "name": "stdout",
     "output_type": "stream",
     "text": [
      "https://www.w3resource.com/python\n"
     ]
    }
   ],
   "source": [
    "omit_last('https://www.w3resource.com/python-exercises')"
   ]
  },
  {
   "cell_type": "code",
   "execution_count": 99,
   "metadata": {},
   "outputs": [],
   "source": [
    "#20. Write a Python function to reverses a string if it's length is a multiple of 4\n",
    "def string_reverese(string):\n",
    "    length=len(string)\n",
    "    if length%4==0:\n",
    "        string1=string[::-1]\n",
    "        return string1\n",
    "    else:\n",
    "        return string"
   ]
  },
  {
   "cell_type": "code",
   "execution_count": 103,
   "metadata": {},
   "outputs": [
    {
     "data": {
      "text/plain": [
       "'abcdefg'"
      ]
     },
     "execution_count": 103,
     "metadata": {},
     "output_type": "execute_result"
    }
   ],
   "source": [
    "string_reverese('abcdefg')"
   ]
  },
  {
   "cell_type": "code",
   "execution_count": 104,
   "metadata": {},
   "outputs": [
    {
     "data": {
      "text/plain": [
       "'dcba'"
      ]
     },
     "execution_count": 104,
     "metadata": {},
     "output_type": "execute_result"
    }
   ],
   "source": [
    "string_reverese('abcd')"
   ]
  },
  {
   "cell_type": "code",
   "execution_count": 108,
   "metadata": {},
   "outputs": [],
   "source": [
    "#21 Write a Python function to convert a given string to all uppercase \n",
    "#if it contains at least 2 uppercase characters in the first 4 characters\n",
    "def upper_4(string):\n",
    "    fst_four=string[:4]\n",
    "    count=0\n",
    "    for x in fst_four:\n",
    "        if x.isupper()==True:\n",
    "            count=count+1\n",
    "    if count>=2:\n",
    "        return string.upper()\n",
    "    else:\n",
    "        return string"
   ]
  },
  {
   "cell_type": "code",
   "execution_count": 109,
   "metadata": {},
   "outputs": [
    {
     "data": {
      "text/plain": [
       "'ABCD'"
      ]
     },
     "execution_count": 109,
     "metadata": {},
     "output_type": "execute_result"
    }
   ],
   "source": [
    "upper_4('ABcd')"
   ]
  },
  {
   "cell_type": "code",
   "execution_count": 110,
   "metadata": {},
   "outputs": [
    {
     "data": {
      "text/plain": [
       "'ACDEFGHT'"
      ]
     },
     "execution_count": 110,
     "metadata": {},
     "output_type": "execute_result"
    }
   ],
   "source": [
    "upper_4('AcdEfght')"
   ]
  },
  {
   "cell_type": "code",
   "execution_count": 111,
   "metadata": {},
   "outputs": [
    {
     "data": {
      "text/plain": [
       "'ABCDEFGHTYU'"
      ]
     },
     "execution_count": 111,
     "metadata": {},
     "output_type": "execute_result"
    }
   ],
   "source": [
    "upper_4('aBCDEfghtyu')"
   ]
  },
  {
   "cell_type": "code",
   "execution_count": 113,
   "metadata": {},
   "outputs": [
    {
     "data": {
      "text/plain": [
       "'abcDEFghyu'"
      ]
     },
     "execution_count": 113,
     "metadata": {},
     "output_type": "execute_result"
    }
   ],
   "source": [
    "upper_4('abcDEFghyu')"
   ]
  },
  {
   "cell_type": "code",
   "execution_count": 126,
   "metadata": {},
   "outputs": [
    {
     "name": "stdout",
     "output_type": "stream",
     "text": [
      "hnopty\n"
     ]
    }
   ],
   "source": [
    "#22.Write a Python program to sort a string lexicographically\n",
    "a='python'\n",
    "b=[x for x in a]\n",
    "b.sort()\n",
    "c=''\n",
    "for x in b:\n",
    "    c=c+x\n",
    "print (c)\n",
    "    "
   ]
  },
  {
   "cell_type": "code",
   "execution_count": 131,
   "metadata": {},
   "outputs": [
    {
     "data": {
      "text/plain": [
       "['python']"
      ]
     },
     "execution_count": 131,
     "metadata": {},
     "output_type": "execute_result"
    }
   ],
   "source": [
    "#23. Write a Python program to remove a newline in Python\n",
    "a='python\\n'\n",
    "sp=a.split()\n",
    "sp      "
   ]
  },
  {
   "cell_type": "code",
   "execution_count": 135,
   "metadata": {},
   "outputs": [],
   "source": [
    "#24.Write a Python program to check whether a string starts with specified characters.\n",
    "\n",
    "#checking if first 3 chars are pyt\n",
    "\n",
    "def check_first3(string):\n",
    "    if string[:3].lower()=='pyt':\n",
    "        print (True)\n",
    "    else:\n",
    "        print (False)\n"
   ]
  },
  {
   "cell_type": "code",
   "execution_count": 139,
   "metadata": {},
   "outputs": [
    {
     "name": "stdout",
     "output_type": "stream",
     "text": [
      "False\n"
     ]
    }
   ],
   "source": [
    "check_first3('ython')"
   ]
  },
  {
   "cell_type": "code",
   "execution_count": null,
   "metadata": {},
   "outputs": [],
   "source": []
  },
  {
   "cell_type": "code",
   "execution_count": null,
   "metadata": {},
   "outputs": [],
   "source": []
  }
 ],
 "metadata": {
  "kernelspec": {
   "display_name": "Python 3",
   "language": "python",
   "name": "python3"
  },
  "language_info": {
   "codemirror_mode": {
    "name": "ipython",
    "version": 3
   },
   "file_extension": ".py",
   "mimetype": "text/x-python",
   "name": "python",
   "nbconvert_exporter": "python",
   "pygments_lexer": "ipython3",
   "version": "3.6.5"
  }
 },
 "nbformat": 4,
 "nbformat_minor": 2
}
