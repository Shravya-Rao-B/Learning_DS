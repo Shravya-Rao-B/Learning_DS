{
 "cells": [
  {
   "cell_type": "code",
   "execution_count": 8,
   "metadata": {},
   "outputs": [
    {
     "name": "stdout",
     "output_type": "stream",
     "text": [
      "enter a number between 1 to 10:4\n",
      "3.1429\n",
      "--- 641.3257784843445 seconds ---\n"
     ]
    }
   ],
   "source": [
    "#Find PI to the Nth Digit - Enter a number and have the program generate PI up to that many decimal places. \n",
    "#Keep a limit to how far the program will go\n",
    "import time\n",
    "while True:\n",
    "    num=int(input('enter a number between 1 to 10:'))\n",
    "    if num in range(1,11):\n",
    "        pi=round(22/7,num)\n",
    "        print (pi)\n",
    "        break\n",
    "    else:\n",
    "        print('Input number is out of range. Please enter a number between 1 to 10')\n",
    "print(\"--- %s seconds ---\" % (time.time() - start_time))"
   ]
  },
  {
   "cell_type": "code",
   "execution_count": 2,
   "metadata": {},
   "outputs": [
    {
     "name": "stdout",
     "output_type": "stream",
     "text": [
      "enter a number between 5 to 10:3\n",
      "Input number is out of range. Please enter a number between 5 to 10\n",
      "enter a number between 5 to 10:11\n",
      "Input number is out of range. Please enter a number between 5 to 10\n",
      "enter a number between 5 to 10:34\n",
      "Input number is out of range. Please enter a number between 5 to 10\n",
      "enter a number between 5 to 10:7\n",
      "2.7182815\n"
     ]
    }
   ],
   "source": [
    "#Enter a number and have the program generate e up to that many decimal places. Keep a limit to how far the program will go.\n",
    "import math\n",
    "while True:\n",
    "    num=int(input('enter a number between 5 to 10:'))\n",
    "    if num in range(5,11):\n",
    "        n=10\n",
    "        e=sum(1 / float(math.factorial(i)) for i in range(n))\n",
    "        print (round(e,num))\n",
    "        break\n",
    "    else:\n",
    "        print('Input number is out of range. Please enter a number between 5 to 10')"
   ]
  },
  {
   "cell_type": "code",
   "execution_count": 7,
   "metadata": {},
   "outputs": [
    {
     "name": "stdout",
     "output_type": "stream",
     "text": [
      "1538313482.8146322\n"
     ]
    }
   ],
   "source": [
    "import time\n",
    "time1=time.time()\n",
    "print (time1)\n"
   ]
  },
  {
   "cell_type": "code",
   "execution_count": 21,
   "metadata": {},
   "outputs": [
    {
     "data": {
      "text/plain": [
       "2.7182818284590455"
      ]
     },
     "execution_count": 21,
     "metadata": {},
     "output_type": "execute_result"
    }
   ],
   "source": []
  },
  {
   "cell_type": "code",
   "execution_count": null,
   "metadata": {},
   "outputs": [],
   "source": []
  },
  {
   "cell_type": "code",
   "execution_count": null,
   "metadata": {},
   "outputs": [],
   "source": []
  }
 ],
 "metadata": {
  "kernelspec": {
   "display_name": "Python 3",
   "language": "python",
   "name": "python3"
  },
  "language_info": {
   "codemirror_mode": {
    "name": "ipython",
    "version": 3
   },
   "file_extension": ".py",
   "mimetype": "text/x-python",
   "name": "python",
   "nbconvert_exporter": "python",
   "pygments_lexer": "ipython3",
   "version": "3.6.5"
  }
 },
 "nbformat": 4,
 "nbformat_minor": 2
}
