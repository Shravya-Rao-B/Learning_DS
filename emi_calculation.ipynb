{
 "cells": [
  {
   "cell_type": "code",
   "execution_count": 12,
   "metadata": {},
   "outputs": [
    {
     "name": "stdout",
     "output_type": "stream",
     "text": [
      "6000.0\n"
     ]
    }
   ],
   "source": [
    "#Mortgage Calculator - Calculate the monthly payments of a fixed term mortgage over given Nth terms at a given interest rate. \n",
    "#Also figure out how long it will take the user to pay back the loan. \n",
    "#For added complexity, add an option for users to select the compounding interval (Monthly, Weekly, Daily, Continually).\n",
    "\n",
    "\n",
    "#a: an amount to loan.\n",
    "#b: the loan period (number of months).\n",
    "#c: the interest rate p.a. (interests is calculated and added every month, 1/12 of the interest is added. \n",
    "#So if the interest is on 12%, 1% interest is added every month).\n",
    "#d: the amount of money owed after the end of the period\n",
    "\n",
    "\n",
    "a=20000\n",
    "b=5\n",
    "c=0.5\n",
    "d=round((a/5))\n",
    "e=(d*0.5)+d\n",
    "print(e)\n"
   ]
  },
  {
   "cell_type": "code",
   "execution_count": 26,
   "metadata": {},
   "outputs": [],
   "source": []
  },
  {
   "cell_type": "code",
   "execution_count": 27,
   "metadata": {},
   "outputs": [
    {
     "data": {
      "text/plain": [
       "4000"
      ]
     },
     "execution_count": 27,
     "metadata": {},
     "output_type": "execute_result"
    }
   ],
   "source": [
    "loan_calc(20000,6,5)"
   ]
  },
  {
   "cell_type": "code",
   "execution_count": 37,
   "metadata": {},
   "outputs": [
    {
     "name": "stdout",
     "output_type": "stream",
     "text": [
      "premium:20000\n",
      "annual interest:6\n",
      "number of installments:5\n",
      "4000.0\n",
      "0.005\n",
      "4000.005\n"
     ]
    }
   ],
   "source": [
    "    a=int(input('premium:'))\n",
    "    b=float(input('annual interest:'))\n",
    "    c=int(input('number of installments:'))\n",
    "    a_per_month=(a/c)\n",
    "    print (a_per_month)\n",
    "    i_per_month=(b/12)/100\n",
    "    print (i_per_month)\n",
    "    l_per_month=a_per_month+i_per_month\n",
    "    print (l_per_month)"
   ]
  },
  {
   "cell_type": "code",
   "execution_count": 34,
   "metadata": {},
   "outputs": [
    {
     "ename": "SyntaxError",
     "evalue": "invalid syntax (<ipython-input-34-7e1f3775e526>, line 1)",
     "output_type": "error",
     "traceback": [
      "\u001b[1;36m  File \u001b[1;32m\"<ipython-input-34-7e1f3775e526>\"\u001b[1;36m, line \u001b[1;32m1\u001b[0m\n\u001b[1;33m    Simple Interest\u001b[0m\n\u001b[1;37m                  ^\u001b[0m\n\u001b[1;31mSyntaxError\u001b[0m\u001b[1;31m:\u001b[0m invalid syntax\n"
     ]
    }
   ],
   "source": [
    "Simple Interest\n",
    "Let the yearly interest rate be i (as a fraction, e.g. a rate of 6% would correspond to i=0.06), the amount of the principal be P, the number of years be n, and the amount after n years be A. Then\n",
    "\n",
    "A = P(1+ni).\n",
    "If you want to know what principal to deposit in order to have an amount A after n years at interest rate i, that principal is called the present value, and is given by\n",
    "P = A/(1+ni).\n",
    "To find the interest rate i, use\n",
    "i = ([A/P]-1)/n.\n",
    "To determine how many compounding periods are needed to reach a given amount,\n",
    "n = ([A/P]-1)/i.\n",
    "Example: Suppose you deposit $6000 in a bank and receive simple interest at a yearly rate of 4% for 7 years. Then the parameters will be principal P = $6000, interest rate per period i = 0.04, and number of periods n = 7. The amount of interest you will have received by the end of 7 years will be Pni = ($6000)(7)(0.04) = $1680, so you will have A = $7680."
   ]
  },
  {
   "cell_type": "code",
   "execution_count": 12,
   "metadata": {},
   "outputs": [],
   "source": [
    "def fib(n):\n",
    "    n1=0\n",
    "    n2=1\n",
    "    count=0\n",
    "    result=[n1,n2]\n",
    "    while count<n:\n",
    "        sum1=n1+n2\n",
    "        result.append(sum1)\n",
    "        n1=n2\n",
    "        n2=sum1\n",
    "        count+=1\n",
    "    return result"
   ]
  },
  {
   "cell_type": "code",
   "execution_count": 13,
   "metadata": {},
   "outputs": [
    {
     "data": {
      "text/plain": [
       "[0, 1, 1, 2, 3, 5, 8]"
      ]
     },
     "execution_count": 13,
     "metadata": {},
     "output_type": "execute_result"
    }
   ],
   "source": [
    "fib(5)"
   ]
  },
  {
   "cell_type": "code",
   "execution_count": null,
   "metadata": {},
   "outputs": [],
   "source": []
  }
 ],
 "metadata": {
  "kernelspec": {
   "display_name": "Python 3",
   "language": "python",
   "name": "python3"
  },
  "language_info": {
   "codemirror_mode": {
    "name": "ipython",
    "version": 3
   },
   "file_extension": ".py",
   "mimetype": "text/x-python",
   "name": "python",
   "nbconvert_exporter": "python",
   "pygments_lexer": "ipython3",
   "version": "3.6.5"
  }
 },
 "nbformat": 4,
 "nbformat_minor": 2
}
