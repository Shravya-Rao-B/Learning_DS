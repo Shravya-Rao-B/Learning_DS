{
 "cells": [
  {
   "cell_type": "code",
   "execution_count": 3,
   "metadata": {},
   "outputs": [
    {
     "name": "stdout",
     "output_type": "stream",
     "text": [
      "1\n",
      "2\n",
      "Fizz\n",
      "4\n",
      "Buzz\n",
      "Fizz\n",
      "7\n",
      "8\n",
      "Fizz\n",
      "Buzz\n",
      "11\n",
      "Fizz\n",
      "13\n",
      "14\n",
      "FizzBuzz\n",
      "16\n",
      "17\n",
      "Fizz\n",
      "19\n",
      "Buzz\n",
      "Fizz\n",
      "22\n",
      "23\n",
      "Fizz\n",
      "Buzz\n",
      "26\n",
      "Fizz\n",
      "28\n",
      "29\n",
      "FizzBuzz\n",
      "31\n",
      "32\n",
      "Fizz\n",
      "34\n",
      "Buzz\n",
      "Fizz\n",
      "37\n",
      "38\n",
      "Fizz\n",
      "Buzz\n",
      "41\n",
      "Fizz\n",
      "43\n",
      "44\n",
      "FizzBuzz\n",
      "46\n",
      "47\n",
      "Fizz\n",
      "49\n",
      "Buzz\n",
      "Fizz\n",
      "52\n",
      "53\n",
      "Fizz\n",
      "Buzz\n",
      "56\n",
      "Fizz\n",
      "58\n",
      "59\n",
      "FizzBuzz\n",
      "61\n",
      "62\n",
      "Fizz\n",
      "64\n",
      "Buzz\n",
      "Fizz\n",
      "67\n",
      "68\n",
      "Fizz\n",
      "Buzz\n",
      "71\n",
      "Fizz\n",
      "73\n",
      "74\n",
      "FizzBuzz\n",
      "76\n",
      "77\n",
      "Fizz\n",
      "79\n",
      "Buzz\n",
      "Fizz\n",
      "82\n",
      "83\n",
      "Fizz\n",
      "Buzz\n",
      "86\n",
      "Fizz\n",
      "88\n",
      "89\n",
      "FizzBuzz\n",
      "91\n",
      "92\n",
      "Fizz\n",
      "94\n",
      "Buzz\n",
      "Fizz\n",
      "97\n",
      "98\n",
      "Fizz\n",
      "Buzz\n"
     ]
    }
   ],
   "source": [
    "#1.Fizz Buzz - Write a program that prints the numbers from 1 to 100. \n",
    "#But for multiples of three print “Fizz” instead of the number and for the multiples of five print “Buzz”. \n",
    "#For numbers which are multiples of both three and five print “FizzBuzz”.\n",
    "for i in range(1,101):\n",
    "    if i%3==0 and i%5!=0:\n",
    "        print('Fizz')\n",
    "    elif i%5==0 and i%3!=0:\n",
    "        print('Buzz')\n",
    "    elif i%3==0 and i%5==0:\n",
    "        print('FizzBuzz')\n",
    "    else:\n",
    "        print (i)"
   ]
  },
  {
   "cell_type": "code",
   "execution_count": 5,
   "metadata": {},
   "outputs": [],
   "source": [
    "#2.Reverse a String - Enter a string and the program will reverse it and print it out.\n",
    "def string_reverse(string):\n",
    "    return string[::-1]"
   ]
  },
  {
   "cell_type": "code",
   "execution_count": 6,
   "metadata": {},
   "outputs": [
    {
     "data": {
      "text/plain": [
       "'ralupop'"
      ]
     },
     "execution_count": 6,
     "metadata": {},
     "output_type": "execute_result"
    }
   ],
   "source": [
    "string_reverse('popular')"
   ]
  },
  {
   "cell_type": "code",
   "execution_count": 11,
   "metadata": {},
   "outputs": [],
   "source": [
    "#3. Pig Latin is a game of alterations played on the English language game. \n",
    "#To create the Pig Latin form of an English word the initial consonant sound is transposed to the end of the word and an ay is \n",
    "#affixed (Ex.: \"banana\" would yield anana-bay). \n",
    "def pig_latin(string):\n",
    "    a=string[0]\n",
    "    return string[1:]+a+'ay'"
   ]
  },
  {
   "cell_type": "code",
   "execution_count": 12,
   "metadata": {},
   "outputs": [
    {
     "data": {
      "text/plain": [
       "'owmyasay'"
      ]
     },
     "execution_count": 12,
     "metadata": {},
     "output_type": "execute_result"
    }
   ],
   "source": [
    "pig_latin('sowmya')"
   ]
  },
  {
   "cell_type": "code",
   "execution_count": 64,
   "metadata": {},
   "outputs": [],
   "source": [
    "#4. Count Vowels - Enter a string and the program counts the number of vowels in the text. \n",
    "#For added complexity have it report a sum of each vowel found\n",
    "def vowels(string):\n",
    "    a=string.lower()\n",
    "    list1=[x for x in a]\n",
    "    list12={x:list1.count(x) for x in list1 if x=='a' or x=='e' or x=='i' or x=='o' or x=='u'}\n",
    "    return list12\n",
    "            \n",
    "            "
   ]
  },
  {
   "cell_type": "code",
   "execution_count": 65,
   "metadata": {},
   "outputs": [
    {
     "data": {
      "text/plain": [
       "{'e': 3, 'a': 3, 'i': 1, 'o': 1, 'u': 1}"
      ]
     },
     "execution_count": 65,
     "metadata": {},
     "output_type": "execute_result"
    }
   ],
   "source": [
    "vowels('eeeaaaiourrr')"
   ]
  },
  {
   "cell_type": "code",
   "execution_count": 67,
   "metadata": {},
   "outputs": [],
   "source": [
    "#5. Check if Palindrome - Checks if the string entered by the user is a palindrome. \n",
    "#That is that it reads the same forwards as backwards like “racecar”\n",
    "def palindrome_check(string):\n",
    "    a=string[::-1]\n",
    "    if string.lower()==a.lower():\n",
    "        print(string,'is a palindrome')\n",
    "    else:\n",
    "        print (string,'is not a palindrome')"
   ]
  },
  {
   "cell_type": "code",
   "execution_count": 69,
   "metadata": {},
   "outputs": [
    {
     "name": "stdout",
     "output_type": "stream",
     "text": [
      "Racecar is a palindrome\n"
     ]
    }
   ],
   "source": [
    "palindrome_check('Racecar')"
   ]
  },
  {
   "cell_type": "code",
   "execution_count": 70,
   "metadata": {},
   "outputs": [
    {
     "name": "stdout",
     "output_type": "stream",
     "text": [
      "Purple is not a palindrome\n"
     ]
    }
   ],
   "source": [
    "palindrome_check('Purple')"
   ]
  },
  {
   "cell_type": "code",
   "execution_count": 84,
   "metadata": {},
   "outputs": [
    {
     "name": "stdout",
     "output_type": "stream",
     "text": [
      "If you are happy and you know it clap your hands. If you are happy and you know it clap your hands.\n",
      "{'if': 2, 'you': 4, 'are': 2, 'happy': 2, 'and': 2, 'know': 2, 'it': 2, 'clap': 2, 'your': 2, 'hands.': 2}\n"
     ]
    }
   ],
   "source": [
    "#Count Words in a String - Counts the number of individual words in a string. \n",
    "#For added complexity read these strings in from a text file and generate a summary.\n",
    "file1=open('string.txt','w+')\n",
    "file1.write('If you are happy and you know it clap your hands. If you are happy and you know it clap your hands.')\n",
    "file1.close()\n",
    "a=open('string.txt','r')\n",
    "contents=a.read()\n",
    "print (contents)\n",
    "sp=contents.lower().split()\n",
    "word_count={x:sp.count(x) for x in sp}\n",
    "print (word_count)"
   ]
  },
  {
   "cell_type": "code",
   "execution_count": null,
   "metadata": {},
   "outputs": [],
   "source": []
  }
 ],
 "metadata": {
  "kernelspec": {
   "display_name": "Python 3",
   "language": "python",
   "name": "python3"
  },
  "language_info": {
   "codemirror_mode": {
    "name": "ipython",
    "version": 3
   },
   "file_extension": ".py",
   "mimetype": "text/x-python",
   "name": "python",
   "nbconvert_exporter": "python",
   "pygments_lexer": "ipython3",
   "version": "3.6.5"
  }
 },
 "nbformat": 4,
 "nbformat_minor": 2
}
