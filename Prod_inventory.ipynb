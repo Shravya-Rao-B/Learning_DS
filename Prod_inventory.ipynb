{
 "cells": [
  {
   "cell_type": "code",
   "execution_count": 7,
   "metadata": {},
   "outputs": [
    {
     "name": "stdout",
     "output_type": "stream",
     "text": [
      "Help on class Prod in module __main__:\n",
      "\n",
      "class Prod(builtins.object)\n",
      " |  Methods defined here:\n",
      " |  \n",
      " |  __init__(self, price_id, quant)\n",
      " |      Initialize self.  See help(type(self)) for accurate signature.\n",
      " |  \n",
      " |  ----------------------------------------------------------------------\n",
      " |  Data descriptors defined here:\n",
      " |  \n",
      " |  __dict__\n",
      " |      dictionary for instance variables (if defined)\n",
      " |  \n",
      " |  __weakref__\n",
      " |      list of weak references to the object (if defined)\n",
      "\n",
      "None\n"
     ]
    }
   ],
   "source": [
    "class Prod:\n",
    "\n",
    "    def __init__(self, price_id, quant):\n",
    "        self.price_id = price_id\n",
    "        self.quant = quant\n",
    "        \n",
    "\n",
    "class Inventory(Prod):\n",
    "\n",
    "    def __init__(self, price_id, quant, prod_id):\n",
    "        super().__init__(price_id, quant)\n",
    "        self.prod_id=prod_id\n",
    "        print (\"Invenotry is created\")\n",
    "        \n",
    "    def total_sale(self):\n",
    "        sum1=0\n",
    "        sales=0\n",
    "        sales1=[]\n",
    "        for x in self.quant:\n",
    "            sales=(self.price_id*x)\n",
    "            sales1.append(sales)\n",
    "        print (sales1)\n",
    "        for i in sales1:\n",
    "            sum1=sum1+i\n",
    "        print(\"Total sale of product\",self.prod_id,'is',sum1)\n",
    "        \n",
    "    print (help(Prod))"
   ]
  },
  {
   "cell_type": "code",
   "execution_count": 3,
   "metadata": {},
   "outputs": [
    {
     "name": "stdout",
     "output_type": "stream",
     "text": [
      "Invenotry is created\n"
     ]
    }
   ],
   "source": [
    "b=Inventory(5,[1,2,5,6,7,8],7)"
   ]
  },
  {
   "cell_type": "code",
   "execution_count": 62,
   "metadata": {},
   "outputs": [
    {
     "name": "stdout",
     "output_type": "stream",
     "text": [
      "[5, 10, 25, 30, 35, 40]\n",
      "Total sale of product 7 is 145\n"
     ]
    }
   ],
   "source": [
    "b.total_sale()"
   ]
  },
  {
   "cell_type": "code",
   "execution_count": 8,
   "metadata": {},
   "outputs": [],
   "source": [
    "c=Prod(12,5)"
   ]
  },
  {
   "cell_type": "code",
   "execution_count": 9,
   "metadata": {},
   "outputs": [
    {
     "ename": "AttributeError",
     "evalue": "'Prod' object has no attribute 'total_sale'",
     "output_type": "error",
     "traceback": [
      "\u001b[1;31m---------------------------------------------------------------------------\u001b[0m",
      "\u001b[1;31mAttributeError\u001b[0m                            Traceback (most recent call last)",
      "\u001b[1;32m<ipython-input-9-fca3fcc082e2>\u001b[0m in \u001b[0;36m<module>\u001b[1;34m()\u001b[0m\n\u001b[1;32m----> 1\u001b[1;33m \u001b[0mc\u001b[0m\u001b[1;33m.\u001b[0m\u001b[0mtotal_sale\u001b[0m\u001b[1;33m(\u001b[0m\u001b[1;33m)\u001b[0m\u001b[1;33m\u001b[0m\u001b[0m\n\u001b[0m",
      "\u001b[1;31mAttributeError\u001b[0m: 'Prod' object has no attribute 'total_sale'"
     ]
    }
   ],
   "source": [
    "c.total_sale()"
   ]
  },
  {
   "cell_type": "code",
   "execution_count": null,
   "metadata": {},
   "outputs": [],
   "source": []
  }
 ],
 "metadata": {
  "kernelspec": {
   "display_name": "Python 3",
   "language": "python",
   "name": "python3"
  },
  "language_info": {
   "codemirror_mode": {
    "name": "ipython",
    "version": 3
   },
   "file_extension": ".py",
   "mimetype": "text/x-python",
   "name": "python",
   "nbconvert_exporter": "python",
   "pygments_lexer": "ipython3",
   "version": "3.6.5"
  }
 },
 "nbformat": 4,
 "nbformat_minor": 2
}
