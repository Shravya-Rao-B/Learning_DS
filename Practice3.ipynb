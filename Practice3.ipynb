{
 "cells": [
  {
   "cell_type": "code",
   "execution_count": 6,
   "metadata": {},
   "outputs": [
    {
     "data": {
      "text/plain": [
       "['C', 'a', 'l', 'o', 't', 'f', 'l', 'o', 'e', 'w', 'i', 't', 's']"
      ]
     },
     "execution_count": 6,
     "metadata": {},
     "output_type": "execute_result"
    }
   ],
   "source": [
    "st = 'Create a list of the first letters of every word in this string'\n",
    "sp=st.split()\n",
    "l_first=[x[0] for x in sp]\n",
    "l_first\n",
    "        "
   ]
  },
  {
   "cell_type": "code",
   "execution_count": 8,
   "metadata": {},
   "outputs": [
    {
     "name": "stdout",
     "output_type": "stream",
     "text": [
      "Print :odd!\n",
      "every :odd!\n",
      "word :even!\n",
      "in :even!\n",
      "this :even!\n",
      "sentence :even!\n",
      "that :even!\n",
      "has :odd!\n",
      "an :even!\n",
      "even :even!\n",
      "number :even!\n",
      "of :even!\n",
      "letters :odd!\n"
     ]
    }
   ],
   "source": [
    "st = 'Print every word in this sentence that has an even number of letters'\n",
    "sp=st.split()\n",
    "for x in sp:\n",
    "    if len(x)%2==0:\n",
    "        print(x,':even!')\n",
    "    else:\n",
    "        print (x,':odd!')"
   ]
  },
  {
   "cell_type": "code",
   "execution_count": null,
   "metadata": {},
   "outputs": [],
   "source": [
    "import random\n",
    "\n",
    "compip=random.randint(1,100)\n",
    "while True:\n",
    "    userip=int(input('enter a number between 1 to 100'))\n",
    "    if userip<compip:\n",
    "        print ('Guess higher')\n",
    "    elif userip>compip:\n",
    "        print ('guess lower')\n",
    "    else:\n",
    "        print('Thats the number!')\n",
    "        break"
   ]
  },
  {
   "cell_type": "code",
   "execution_count": null,
   "metadata": {},
   "outputs": [],
   "source": [
    "import random\n",
    "\n",
    "compip=random.randint(1,100)\n",
    "while True:\n",
    "    userip=int(input('enter a number between 1 to 100:'))\n",
    "    if userip<compip:\n",
    "        print ('Guess higher')\n",
    "    elif userip>compip:\n",
    "        print ('guess lower')\n",
    "    else:\n",
    "        print('Thats the number!')\n",
    "        break"
   ]
  },
  {
   "cell_type": "code",
   "execution_count": null,
   "metadata": {},
   "outputs": [],
   "source": []
  }
 ],
 "metadata": {
  "kernelspec": {
   "display_name": "Python 3",
   "language": "python",
   "name": "python3"
  },
  "language_info": {
   "codemirror_mode": {
    "name": "ipython",
    "version": 3
   },
   "file_extension": ".py",
   "mimetype": "text/x-python",
   "name": "python",
   "nbconvert_exporter": "python",
   "pygments_lexer": "ipython3",
   "version": "3.6.5"
  }
 },
 "nbformat": 4,
 "nbformat_minor": 2
}
