{
 "cells": [
  {
   "cell_type": "code",
   "execution_count": 14,
   "metadata": {},
   "outputs": [
    {
     "name": "stdout",
     "output_type": "stream",
     "text": [
      "enter a number to find prime factors:10\n",
      "factors of  10 : [1, 2, 5, 10]\n",
      "prime factors of 10 : [2, 5]\n"
     ]
    }
   ],
   "source": [
    "#Have the user enter a number and find all Prime Factors (if there are any) and display them.\n",
    "prime_factors=[]\n",
    "non_prime=[]\n",
    "n=int(input('enter a number to find prime factors:'))\n",
    "factors=[x for x in range(1,n+1) if n%x==0]\n",
    "factors1=factors[1:]\n",
    "print ('factors of ',n,':',factors)\n",
    "for i in factors1:\n",
    "    if i==2:\n",
    "        prime_factors.append(i)\n",
    "    else:\n",
    "        for x in range(2,i):\n",
    "            if (i%x)==0:\n",
    "                break\n",
    "        else:\n",
    "            prime_factors.append(i)\n",
    "            print('prime factors of',n,':',prime_factors)"
   ]
  },
  {
   "cell_type": "code",
   "execution_count": null,
   "metadata": {},
   "outputs": [],
   "source": []
  },
  {
   "cell_type": "code",
   "execution_count": null,
   "metadata": {},
   "outputs": [],
   "source": []
  },
  {
   "cell_type": "code",
   "execution_count": null,
   "metadata": {},
   "outputs": [],
   "source": []
  }
 ],
 "metadata": {
  "kernelspec": {
   "display_name": "Python 3",
   "language": "python",
   "name": "python3"
  },
  "language_info": {
   "codemirror_mode": {
    "name": "ipython",
    "version": 3
   },
   "file_extension": ".py",
   "mimetype": "text/x-python",
   "name": "python",
   "nbconvert_exporter": "python",
   "pygments_lexer": "ipython3",
   "version": "3.6.5"
  }
 },
 "nbformat": 4,
 "nbformat_minor": 2
}
