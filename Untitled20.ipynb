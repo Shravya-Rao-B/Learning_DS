{
 "cells": [
  {
   "cell_type": "code",
   "execution_count": 1,
   "metadata": {},
   "outputs": [
    {
     "name": "stdout",
     "output_type": "stream",
     "text": [
      "enter a number between 1 to 100:55\n",
      "Guess higher\n",
      "enter a number between 1 to 100:65\n",
      "Guess higher\n",
      "enter a number between 1 to 100:75\n",
      "Guess higher\n",
      "enter a number between 1 to 100:85\n",
      "guess lower\n",
      "enter a number between 1 to 100:80\n",
      "Thats the number!\n"
     ]
    }
   ],
   "source": [
    "import random\n",
    "\n",
    "compip=random.randint(1,100)\n",
    "while True:\n",
    "    userip=int(input('enter a number between 1 to 100:'))\n",
    "    if userip<compip:\n",
    "        print ('Guess higher')\n",
    "    elif userip>compip:\n",
    "        print ('guess lower')\n",
    "    else:\n",
    "        print('Thats the number!')\n",
    "        break"
   ]
  },
  {
   "cell_type": "code",
   "execution_count": 16,
   "metadata": {},
   "outputs": [],
   "source": [
    "def prime_factor(n):\n",
    "    prime_factors=[]\n",
    "    factors=[x for x in range(1,n+1) if n%x==0]\n",
    "    for x in factors:\n",
    "        for i in range(2,x+1):\n",
    "            if x%i==0:\n",
    "                break\n",
    "            else:\n",
    "                prime_factors=prime_factors.append(x)\n",
    "                return prime_factors\n",
    "                "
   ]
  },
  {
   "cell_type": "code",
   "execution_count": 15,
   "metadata": {},
   "outputs": [],
   "source": [
    "prime_factor(15)"
   ]
  },
  {
   "cell_type": "code",
   "execution_count": null,
   "metadata": {},
   "outputs": [],
   "source": []
  }
 ],
 "metadata": {
  "kernelspec": {
   "display_name": "Python 3",
   "language": "python",
   "name": "python3"
  },
  "language_info": {
   "codemirror_mode": {
    "name": "ipython",
    "version": 3
   },
   "file_extension": ".py",
   "mimetype": "text/x-python",
   "name": "python",
   "nbconvert_exporter": "python",
   "pygments_lexer": "ipython3",
   "version": "3.6.5"
  }
 },
 "nbformat": 4,
 "nbformat_minor": 2
}
