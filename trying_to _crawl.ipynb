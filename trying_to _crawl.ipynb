{
 "cells": [
  {
   "cell_type": "code",
   "execution_count": 29,
   "metadata": {},
   "outputs": [
    {
     "name": "stdout",
     "output_type": "stream",
     "text": [
      "Enter your city: Zurich\n",
      "Mostly dry. Warm (max 22&deg;C on Wed afternoon, min 9&deg;C on Wed morning). Wind will be generally ligh\n"
     ]
    }
   ],
   "source": [
    "import re\n",
    "\n",
    "import urllib.request\n",
    "\n",
    "\n",
    "\n",
    "#https://www.weather-forecast.com/locations/Zurich/forecasts/latest\n",
    "\n",
    "\n",
    "\n",
    "city = input(\"Enter your city: \")\n",
    "\n",
    "url = \"https://www.weather-forecast.com/locations/\"+ city +\"/forecasts/latest\"\n",
    "\n",
    "\n",
    "\n",
    "data = urllib.request.urlopen(url).read()\n",
    "\n",
    "data1 = data.decode(\"utf-8\")\n",
    "\n",
    "\n",
    "\n",
    "m = re.search('span class=\"phrase\">', data1)\n",
    "\n",
    "\n",
    "\n",
    "start = m.end()\n",
    "\n",
    "end = start + 300\n",
    "\n",
    "\n",
    "\n",
    "newString = data1[start:end]\n",
    "\n",
    "\n",
    "\n",
    "#print(newString)\n",
    "\n",
    "m = re.search(\"</span>\", newString)\n",
    "\n",
    "end = m.start() - 2\n",
    "\n",
    "\n",
    "\n",
    "final = newString[0:end]\n",
    "\n",
    "\n",
    "\n",
    "print(final)"
   ]
  },
  {
   "cell_type": "code",
   "execution_count": 36,
   "metadata": {},
   "outputs": [
    {
     "name": "stdout",
     "output_type": "stream",
     "text": [
      "Enter your search: Kempegowda\n",
      "https://en.wikipedia.org/wiki/Kempegowda\n",
      "<_sre.SRE_Match object; span=(11449, 11452), match='<p>'>\n"
     ]
    },
    {
     "ename": "AttributeError",
     "evalue": "'NoneType' object has no attribute 'start'",
     "output_type": "error",
     "traceback": [
      "\u001b[1;31m---------------------------------------------------------------------------\u001b[0m",
      "\u001b[1;31mAttributeError\u001b[0m                            Traceback (most recent call last)",
      "\u001b[1;32m<ipython-input-36-6b4a3f7019d3>\u001b[0m in \u001b[0;36m<module>\u001b[1;34m()\u001b[0m\n\u001b[0;32m     24\u001b[0m \u001b[1;31m#print (newString)\u001b[0m\u001b[1;33m\u001b[0m\u001b[1;33m\u001b[0m\u001b[0m\n\u001b[0;32m     25\u001b[0m \u001b[0mm\u001b[0m \u001b[1;33m=\u001b[0m \u001b[0mre\u001b[0m\u001b[1;33m.\u001b[0m\u001b[0msearch\u001b[0m\u001b[1;33m(\u001b[0m\u001b[1;34m\"</p>\"\u001b[0m\u001b[1;33m,\u001b[0m \u001b[0mnewString\u001b[0m\u001b[1;33m)\u001b[0m\u001b[1;33m\u001b[0m\u001b[0m\n\u001b[1;32m---> 26\u001b[1;33m \u001b[0mend\u001b[0m \u001b[1;33m=\u001b[0m \u001b[0mm\u001b[0m\u001b[1;33m.\u001b[0m\u001b[0mstart\u001b[0m\u001b[1;33m(\u001b[0m\u001b[1;33m)\u001b[0m \u001b[1;33m-\u001b[0m\u001b[1;36m1\u001b[0m\u001b[1;33m\u001b[0m\u001b[0m\n\u001b[0m\u001b[0;32m     27\u001b[0m \u001b[0mfinal\u001b[0m \u001b[1;33m=\u001b[0m \u001b[0mnewString\u001b[0m\u001b[1;33m[\u001b[0m\u001b[1;36m0\u001b[0m\u001b[1;33m:\u001b[0m\u001b[0mend\u001b[0m\u001b[1;33m]\u001b[0m\u001b[1;33m\u001b[0m\u001b[0m\n\u001b[0;32m     28\u001b[0m \u001b[0mprint\u001b[0m\u001b[1;33m(\u001b[0m\u001b[0mfinal\u001b[0m\u001b[1;33m)\u001b[0m\u001b[1;33m\u001b[0m\u001b[0m\n",
      "\u001b[1;31mAttributeError\u001b[0m: 'NoneType' object has no attribute 'start'"
     ]
    }
   ],
   "source": [
    "\n",
    "import re\n",
    "import urllib.request\n",
    "\n",
    "\n",
    "\n",
    "#https://en.wikipedia.org/wiki/Kempe_Gowda_I\n",
    "\n",
    "\n",
    "\n",
    "name = input(\"Enter your search: \")\n",
    "url = \"https://en.wikipedia.org/wiki/\"+ name\n",
    "print(url)\n",
    "\n",
    "#opening and reading the URL and storing data in 'data'\n",
    "data = urllib.request.urlopen(url).read()\n",
    "data1 = data.decode(\"utf-8\")\n",
    "#print (data1)\n",
    "m = re.search('<table class>', data1)\n",
    "print (m)\n",
    "start = m.end()\n",
    "end = start + 300\n",
    "newString = data1[start:end]\n",
    "#print (newString)\n",
    "m = re.search(\"</p>\", newString)\n",
    "end = m.start() -1\n",
    "final = newString[0:end]\n",
    "print(final)"
   ]
  },
  {
   "cell_type": "code",
   "execution_count": 26,
   "metadata": {},
   "outputs": [
    {
     "name": "stdout",
     "output_type": "stream",
     "text": [
      "Enter your search: Zurich\n",
      "<_sre.SRE_Match object; span=(18588, 18608), match='span class=\"phrase\">'>\n",
      "\"mw-redirectedfrom\">  (Redirected from <a href=\"/w/index.php?title=Kempegowda&amp;redirect=no\" class=\"mw-redirect\" title=\"Kempegowda\">Kempegowda</a>)\n"
     ]
    }
   ],
   "source": [
    "\n",
    "import re\n",
    "\n",
    "import urllib.request\n",
    "\n",
    "\n",
    "\n",
    "#https://www.weather-forecast.com/locations/Zurich/forecasts/latest\n",
    "\n",
    "\n",
    "name = input(\"Enter your search: \")\n",
    "\n",
    "url = \"https://www.weather-forecast.com/locations/\"+ name +\"/forecasts/latest\"\n",
    "\n",
    "data = urllib.request.urlopen(url).read()\n",
    "data1 = data.decode(\"utf-8\")\n",
    "m = re.search('span class=\"phrase\">', data1)\n",
    "print (m)\n",
    "start=m.start()\n",
    "end=m.end()\n",
    "#print (data1[start:end])\n",
    "m = re.search(\"</span>\", newString)\n",
    "\n",
    "end = m.start()\n",
    "final = newString[0:end]\n",
    "print(final)"
   ]
  },
  {
   "cell_type": "code",
   "execution_count": null,
   "metadata": {},
   "outputs": [],
   "source": []
  }
 ],
 "metadata": {
  "kernelspec": {
   "display_name": "Python 3",
   "language": "python",
   "name": "python3"
  },
  "language_info": {
   "codemirror_mode": {
    "name": "ipython",
    "version": 3
   },
   "file_extension": ".py",
   "mimetype": "text/x-python",
   "name": "python",
   "nbconvert_exporter": "python",
   "pygments_lexer": "ipython3",
   "version": "3.6.5"
  }
 },
 "nbformat": 4,
 "nbformat_minor": 2
}
