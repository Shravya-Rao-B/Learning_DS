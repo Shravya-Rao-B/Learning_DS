{
 "cells": [
  {
   "cell_type": "code",
   "execution_count": null,
   "metadata": {},
   "outputs": [],
   "source": [
    "#Find PI to the Nth Digit - Enter a number and have the program generate PI up to that many decimal places. \n",
    "#Keep a limit to how far the program will go\n",
    "while True:\n",
    "    num=int(input('enter a number between 1 to 10:'))\n",
    "    if num in range(1,11):\n",
    "        pi=round(22/7,num)\n",
    "        print (pi)\n",
    "        break\n",
    "    else:\n",
    "        print('Input number is out of range. Please enter a number between 1 to 10')\n",
    "        "
   ]
  },
  {
   "cell_type": "code",
   "execution_count": null,
   "metadata": {},
   "outputs": [],
   "source": []
  },
  {
   "cell_type": "code",
   "execution_count": null,
   "metadata": {},
   "outputs": [],
   "source": []
  }
 ],
 "metadata": {
  "kernelspec": {
   "display_name": "Python 3",
   "language": "python",
   "name": "python3"
  },
  "language_info": {
   "codemirror_mode": {
    "name": "ipython",
    "version": 3
   },
   "file_extension": ".py",
   "mimetype": "text/x-python",
   "name": "python",
   "nbconvert_exporter": "python",
   "pygments_lexer": "ipython3",
   "version": "3.6.5"
  }
 },
 "nbformat": 4,
 "nbformat_minor": 2
}
