{
 "cells": [
  {
   "cell_type": "code",
   "execution_count": 14,
   "metadata": {
    "scrolled": true
   },
   "outputs": [
    {
     "name": "stdout",
     "output_type": "stream",
     "text": [
      "enter you name:Anup Maiya\n",
      "Hello You Anup Maiya \n",
      "you are now studying ************Python************\n",
      " This is how you left justify your code\n",
      " and this is how you right justify           your code\n"
     ]
    }
   ],
   "source": [
    "string1='Hello You'\n",
    "name=input('enter you name:')\n",
    "print ('''Hello You {} \\nyou are now studying {:*^30}\\n This is how you left justify {:<5}\\n and this is how you right justify {:>19}'''.format(name,'Python','your code','your code'))\n"
   ]
  },
  {
   "cell_type": "code",
   "execution_count": 16,
   "metadata": {},
   "outputs": [
    {
     "name": "stdout",
     "output_type": "stream",
     "text": [
      "  3    9    27\n",
      "  4   16    64\n",
      "  5   25   125\n",
      "  6   36   216\n",
      "  7   49   343\n",
      "  8   64   512\n",
      "  9   81   729\n",
      " 10  100  1000\n",
      " 11  121  1331\n",
      " 12  144  1728\n"
     ]
    }
   ],
   "source": [
    "for i in range(3,13):\n",
    "    print('{:3d} {:4d} {:5d}'.format(i, i*i, i*i*i))"
   ]
  },
  {
   "cell_type": "code",
   "execution_count": 28,
   "metadata": {},
   "outputs": [
    {
     "name": "stdout",
     "output_type": "stream",
     "text": [
      "123****** 456******\n"
     ]
    }
   ],
   "source": [
    "#34 Write a Python program to print the following integers with '*' on the right of specified width\n",
    "a=123\n",
    "b=456\n",
    "print ('{:*<9d} {:*<9d}'.format(a,b))"
   ]
  },
  {
   "cell_type": "code",
   "execution_count": 29,
   "metadata": {},
   "outputs": [
    {
     "name": "stdout",
     "output_type": "stream",
     "text": [
      "Money 500,000 money 550,500 money 7,000,000,000\n"
     ]
    }
   ],
   "source": [
    "#35 Write a Python program to display a number with a comma separator.\n",
    "a=500000\n",
    "b=550500\n",
    "c=7000000000\n",
    "print ('Money {:,} money {:,} money {:,}'.format(a,b,c) )"
   ]
  },
  {
   "cell_type": "code",
   "execution_count": 31,
   "metadata": {},
   "outputs": [
    {
     "name": "stdout",
     "output_type": "stream",
     "text": [
      "70.00%\n"
     ]
    }
   ],
   "source": [
    "# 36 Write a Python program to format a number with a percentage\n",
    "a=0.70\n",
    "percent=a*100\n",
    "print ('{:.2f}' '%'.format(percent))"
   ]
  },
  {
   "cell_type": "code",
   "execution_count": 36,
   "metadata": {},
   "outputs": [
    {
     "name": "stdout",
     "output_type": "stream",
     "text": [
      "Enter the number:2345\n",
      "left: 2345******\n",
      "Right: ******2345\n",
      "Center: ***2345***\n"
     ]
    }
   ],
   "source": [
    " #37 Write a Python program to display a number in left, right and center aligned of width 10.\n",
    "a=int(input('Enter the number:'))\n",
    "print ('left: {:*<10}'.format(a))\n",
    "print ('Right: {:*>10}'.format(a))\n",
    "print ('Center: {:*^10}'.format(a))\n",
    "\n",
    "#\\n right: {:>10}\\n center: {:^10}'''.format(a))"
   ]
  },
  {
   "cell_type": "code",
   "execution_count": 45,
   "metadata": {},
   "outputs": [
    {
     "name": "stdout",
     "output_type": "stream",
     "text": [
      "{'many': 2, 'happy': 1, 'a': 1, 'l': 1, 'k': 1, 'n': 3}\n"
     ]
    }
   ],
   "source": [
    "#38 Write a Python program to count occurrences of a substring in a string.\n",
    "a='many many happy a l k n n n'\n",
    "sp=a.split()\n",
    "b={x:sp.count(x) for x in sp}\n",
    "print (b)"
   ]
  },
  {
   "cell_type": "code",
   "execution_count": 46,
   "metadata": {},
   "outputs": [
    {
     "name": "stdout",
     "output_type": "stream",
     "text": [
      "dcba\n"
     ]
    }
   ],
   "source": [
    "# 39 Write a Python program to reverse a string\n",
    "a='abcd'\n",
    "b=a[::-1]\n",
    "print (b)"
   ]
  },
  {
   "cell_type": "code",
   "execution_count": 79,
   "metadata": {},
   "outputs": [
    {
     "ename": "SyntaxError",
     "evalue": "invalid syntax (<ipython-input-79-2f81387fd209>, line 9)",
     "output_type": "error",
     "traceback": [
      "\u001b[1;36m  File \u001b[1;32m\"<ipython-input-79-2f81387fd209>\"\u001b[1;36m, line \u001b[1;32m9\u001b[0m\n\u001b[1;33m    print (,.join(word))\u001b[0m\n\u001b[1;37m           ^\u001b[0m\n\u001b[1;31mSyntaxError\u001b[0m\u001b[1;31m:\u001b[0m invalid syntax\n"
     ]
    }
   ],
   "source": [
    "# 40 Write a Python program to reverse words in a string\n",
    "a='Let there be peace'\n",
    "b=a.split()\n",
    "print ('String:',b)\n",
    "c=b[::-1]\n",
    "c\n",
    "d=' '\n",
    "for word in c:\n",
    "    print (.join(word))"
   ]
  },
  {
   "cell_type": "code",
   "execution_count": 91,
   "metadata": {},
   "outputs": [
    {
     "name": "stdout",
     "output_type": "stream",
     "text": [
      "Original string: Mary had a little lamb\n",
      "Stripped string: Mary had a little lamb\n"
     ]
    }
   ],
   "source": [
    "#41 Write a Python program to strip a set of characters from a string\n",
    "string='Mary had a little lamb'\n",
    "print ('Original string:',string)\n",
    "text1=string.strip('l')\n",
    "print ('Stripped string:',text1)\n",
    "          "
   ]
  },
  {
   "cell_type": "code",
   "execution_count": 89,
   "metadata": {},
   "outputs": [
    {
     "name": "stdout",
     "output_type": "stream",
     "text": [
      "Original string: MAry had a little lamb\n",
      "Stripped string: MAry had a little lamb\n"
     ]
    }
   ],
   "source": [
    "strip_chars('MAry had a little lamb','dmA')"
   ]
  },
  {
   "cell_type": "code",
   "execution_count": 126,
   "metadata": {},
   "outputs": [
    {
     "name": "stdout",
     "output_type": "stream",
     "text": [
      "dict_keys(['t', 'h', 'e', 'q', 'u', 'i', 'c', 'k', 'b', 'r', 'o', 'w', 'n', 'f', 'x', 'j', 'm', 'p', 's', 'v', 'l', 'a', 'z', 'y', 'd', 'g'])\n",
      "dict_values([2, 2, 3, 1, 2, 1, 1, 1, 1, 2, 4, 1, 1, 1, 1, 1, 1, 1, 1, 1, 1, 1, 1, 1, 1, 1])\n"
     ]
    }
   ],
   "source": [
    "\n",
    "# 42 Write a Python program to count repeated characters in a string. Go to the editor\n",
    "#Sample string: 'thequickbrownfoxjumpsoverthelazydog'\n",
    "#Expected output :\n",
    "#o 4\n",
    "#e 3\n",
    "#u 2\n",
    "#h 2\n",
    "#r 2\n",
    "#t 2\n",
    "\n",
    "string='thequickbrownfoxjumpsoverthelazydog'\n",
    "count1={x:string.count(x) for x in string}\n",
    "a=count1.keys()\n",
    "print (a)\n",
    "b=count1.values()\n",
    "print (b)\n",
    "for i in b:\n",
    "    if i>1:\n",
    "        \n"
   ]
  },
  {
   "cell_type": "code",
   "execution_count": 128,
   "metadata": {},
   "outputs": [
    {
     "name": "stdout",
     "output_type": "stream",
     "text": [
      "m**3\n"
     ]
    }
   ],
   "source": [
    "# 43\n",
    "print (exponential(m))"
   ]
  },
  {
   "cell_type": "code",
   "execution_count": null,
   "metadata": {},
   "outputs": [],
   "source": []
  }
 ],
 "metadata": {
  "kernelspec": {
   "display_name": "Python 3",
   "language": "python",
   "name": "python3"
  },
  "language_info": {
   "codemirror_mode": {
    "name": "ipython",
    "version": 3
   },
   "file_extension": ".py",
   "mimetype": "text/x-python",
   "name": "python",
   "nbconvert_exporter": "python",
   "pygments_lexer": "ipython3",
   "version": "3.6.5"
  }
 },
 "nbformat": 4,
 "nbformat_minor": 2
}
