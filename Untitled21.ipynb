{
 "cells": [
  {
   "cell_type": "code",
   "execution_count": 29,
   "metadata": {},
   "outputs": [
    {
     "name": "stdout",
     "output_type": "stream",
     "text": [
      "Enter the number to find its factor:20\n",
      "[1, 2, 4, 5, 10, 20]\n",
      "[2, 4, 5]\n"
     ]
    }
   ],
   "source": [
    "n=int(input('Enter the number to find its factor:'))\n",
    "prime_factors=[]\n",
    "factors=[x for x in range(1,n+1) if n%x==0]\n",
    "factors1=factors[1:]\n",
    "print (factors)\n",
    "for i in factors1:\n",
    "    if i==2:\n",
    "        prime_factors.append(i)\n",
    "    else:\n",
    "        for x in range(3,i):\n",
    "            if i%x==0:\n",
    "                break\n",
    "        else:\n",
    "            prime_factors.append(i)\n",
    "print(prime_factors)"
   ]
  },
  {
   "cell_type": "code",
   "execution_count": 3,
   "metadata": {},
   "outputs": [],
   "source": [
    "prime_factor(15)"
   ]
  },
  {
   "cell_type": "code",
   "execution_count": null,
   "metadata": {},
   "outputs": [],
   "source": []
  }
 ],
 "metadata": {
  "kernelspec": {
   "display_name": "Python 3",
   "language": "python",
   "name": "python3"
  },
  "language_info": {
   "codemirror_mode": {
    "name": "ipython",
    "version": 3
   },
   "file_extension": ".py",
   "mimetype": "text/x-python",
   "name": "python",
   "nbconvert_exporter": "python",
   "pygments_lexer": "ipython3",
   "version": "3.6.5"
  }
 },
 "nbformat": 4,
 "nbformat_minor": 2
}
