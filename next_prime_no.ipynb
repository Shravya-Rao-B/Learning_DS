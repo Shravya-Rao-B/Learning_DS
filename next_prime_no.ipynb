{
 "cells": [
  {
   "cell_type": "code",
   "execution_count": null,
   "metadata": {},
   "outputs": [
    {
     "name": "stdout",
     "output_type": "stream",
     "text": [
      "enter the max range of numbers:15\n",
      "numbers in range 15 : [1, 2, 3, 4, 5, 6, 7, 8, 9, 10, 11, 12, 13, 14, 15]\n",
      "Do you want to generate the next prime number?y/n:y\n",
      "[2]\n",
      "Do you want to generate the next prime number?y/n:y\n",
      "[2, 3]\n",
      "Do you want to generate the next prime number?y/n:y\n",
      "[2, 3, 5]\n",
      "Do you want to generate the next prime number?y/n:y\n",
      "[2, 3, 5, 7]\n",
      "Do you want to generate the next prime number?y/n:y\n",
      "[2, 3, 5, 7, 11]\n",
      "Do you want to generate the next prime number?y/n:y\n",
      "[2, 3, 5, 7, 11, 13]\n",
      "Do you want to generate the next prime number?y/n:y\n",
      "[2, 3, 5, 7, 11, 13]\n"
     ]
    }
   ],
   "source": [
    "num=1\n",
    "prime_factors=[]\n",
    "non_prime=[]\n",
    "n=int(input('enter the max range of numbers:'))\n",
    "numbers=[x for x in range(1,n+1)]\n",
    "numbers1=numbers[1:]\n",
    "print ('numbers in range',n,':',numbers)\n",
    "for i in numbers1:\n",
    "    if i==2:\n",
    "        prime_factors.append(i)\n",
    "    else:\n",
    "        for x in range(2,i):\n",
    "            if (i%x)==0:\n",
    "                break\n",
    "        else:\n",
    "            prime_factors.append(i)\n",
    "#print('prime numbers:',prime_factors)\n",
    "while num<=n:\n",
    "    user_input=input('Do you want to generate the next prime number?y/n:')\n",
    "    if user_input.lower()=='y':\n",
    "        print(prime_factors[:num])\n",
    "        num=num+1\n",
    "    else:\n",
    "        break"
   ]
  },
  {
   "cell_type": "code",
   "execution_count": null,
   "metadata": {},
   "outputs": [],
   "source": []
  }
 ],
 "metadata": {
  "kernelspec": {
   "display_name": "Python 3",
   "language": "python",
   "name": "python3"
  },
  "language_info": {
   "codemirror_mode": {
    "name": "ipython",
    "version": 3
   },
   "file_extension": ".py",
   "mimetype": "text/x-python",
   "name": "python",
   "nbconvert_exporter": "python",
   "pygments_lexer": "ipython3",
   "version": "3.6.5"
  }
 },
 "nbformat": 4,
 "nbformat_minor": 2
}
