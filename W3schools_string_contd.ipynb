{
 "cells": [
  {
   "cell_type": "code",
   "execution_count": 24,
   "metadata": {},
   "outputs": [
    {
     "name": "stdout",
     "output_type": "stream",
     "text": [
      "Class employee is created\n",
      "Fullname: Shravya Rao\n",
      "Class employee is created\n",
      "Class employee is created\n",
      "Class employee is created\n",
      "Manager is created\n",
      "Fullname: Ghanashyam Sajankila\n"
     ]
    }
   ],
   "source": [
    "class Employee(object):\n",
    "    def __init__(self,first_name,last_name):\n",
    "        self.first_name=first_name\n",
    "        self.last_name=last_name\n",
    "        print('Class employee is created')\n",
    "    def fullname(self):\n",
    "        name=self.first_name+' '+self.last_name\n",
    "        return print ('Fullname:',name)\n",
    "        \n",
    "class Manager(Employee):\n",
    "    def __init__(self,first_name,last_name):\n",
    "        super().__init__(first_name,last_name)\n",
    "        print('Manager is created')\n",
    "        \n",
    "        \n",
    "\n",
    "Emp1=Employee('Shravya','Rao')\n",
    "Emp1.fullname()\n",
    "Emp2=Employee('Sowmya','Maiya')\n",
    "Emp3=Employee('Shruthi','Rao')\n",
    "\n",
    "Mgr=Manager('Ghanashyam','Sajankila')\n",
    "Mgr.fullname()"
   ]
  },
  {
   "cell_type": "code",
   "execution_count": 25,
   "metadata": {},
   "outputs": [
    {
     "name": "stdout",
     "output_type": "stream",
     "text": [
      "Enter an string to be Caesar encrypted:tyu\n",
      "tyu\n",
      "vaw\n"
     ]
    }
   ],
   "source": [
    "#Write a Python program to create a Caesar encryption\n",
    "#A-->c, B-->D\n",
    "#will not work if step is not 2 and need to alter everytime when it is out of range, coverts original string to lower case.\n",
    "ceaser_string=''\n",
    "ip=input('Enter an string to be Caesar encrypted:')\n",
    "ip_string=ip.lower()\n",
    "print (ip_string)\n",
    "list1=['a','b','c','d','e','f','g','h','i','j','k','l','m','n','o','p','q','r','s','t','u','v','w','x','y','z']\n",
    "for i in ip_string:\n",
    "    if i=='y':\n",
    "        ceaser_string=ceaser_string+'a'\n",
    "    elif i=='z':\n",
    "        ceaser_string=ceaser_string+'b'\n",
    "    else:\n",
    "        pos_in_list1=list1.index(i)\n",
    "        pos_in_list1=pos_in_list1+2\n",
    "        ceaser_string=ceaser_string+list1[pos_in_list1]\n",
    "print (ceaser_string)"
   ]
  },
  {
   "cell_type": "code",
   "execution_count": 27,
   "metadata": {},
   "outputs": [],
   "source": [
    "# 25.Write a Python program to create a Caesar encryption\n",
    "def encryption(ip,step):\n",
    "    #ip_string=ip.lower()\n",
    "    print ('String input is:',ip)\n",
    "    ceaser_string=' '\n",
    "    list1=['a','b','c','d','e','f','g','h','i','j','k','l','m','n','o','p','q','r','s','t','u','v','w','x','y','z']\n",
    "    list2=['A','B','C','D','E','F','G','H','I','J','K','L','M','N','O','P','Q','R','S','T','U','V','W','X','Y','Z']\n",
    "    for i in ip:\n",
    "        if i in list1:\n",
    "            pos_in_list1=list1.index(i)\n",
    "            pos_in_list1=(pos_in_list1+step)%26\n",
    "            ceaser_string=ceaser_string+list1[pos_in_list1]\n",
    "        elif i in list2:\n",
    "            pos_in_list2=list2.index(i)\n",
    "            pos_in_list2=(pos_in_list2+step)%26\n",
    "            ceaser_string=ceaser_string+list2[pos_in_list2]\n",
    "        elif i==' ':\n",
    "            ceaser_string=ceaser_string+' '\n",
    "    print (ceaser_string)\n",
    "    return"
   ]
  },
  {
   "cell_type": "code",
   "execution_count": 28,
   "metadata": {},
   "outputs": [
    {
     "name": "stdout",
     "output_type": "stream",
     "text": [
      "String input is: HapPy BirtHday\n",
      " LetTc FmvxLhec\n"
     ]
    }
   ],
   "source": [
    "encryption('HapPy BirtHday',4)"
   ]
  },
  {
   "cell_type": "code",
   "execution_count": 29,
   "metadata": {},
   "outputs": [],
   "source": [
    "#26 Write a Python program to display formatted text (width=50) as output\n",
    "import textwrap\n",
    "def format_text(text,width):\n",
    "    text1=textwrap.fill(text,width)\n",
    "    print (text1)\n",
    "    return"
   ]
  },
  {
   "cell_type": "code",
   "execution_count": 30,
   "metadata": {},
   "outputs": [
    {
     "name": "stdout",
     "output_type": "stream",
     "text": [
      "The 2018 Summer Youth Olympic Games (Spanish:\n",
      "Juegos Olímpicos de la Juventud de 2018),\n",
      "officially known as the III Summer Youth Olympic\n",
      "Games, and commonly known as Buenos Aires 2018, is\n",
      "a forthcoming international sports, cultural, and\n",
      "educational event that will be hosted in Buenos\n",
      "Aires, Argentina between 6 and 18\n"
     ]
    }
   ],
   "source": [
    "format_text('The 2018 Summer Youth Olympic Games (Spanish: Juegos Olímpicos de la Juventud de 2018), officially known as the III Summer Youth Olympic Games, and commonly known as Buenos Aires 2018, is a forthcoming international sports, cultural, and educational event that will be hosted in Buenos Aires, Argentina between 6 and 18',50)"
   ]
  },
  {
   "cell_type": "code",
   "execution_count": 31,
   "metadata": {},
   "outputs": [],
   "source": [
    "#27 Write a Python program to remove existing indentation from all of the lines in a given text.\n",
    "import textwrap\n",
    "def dedent_text(text):\n",
    "    text1=textwrap.dedent(text)\n",
    "    return (text1)"
   ]
  },
  {
   "cell_type": "code",
   "execution_count": 32,
   "metadata": {},
   "outputs": [
    {
     "data": {
      "text/plain": [
       "'The 2018 Summer Youth Olympic Games (Spanish:\\nJuegos Olímpicos de la Juventud de 2018),\\nofficially known as the III Summer Youth Olympic\\nGames, and commonly known as Buenos Aires 2018, is\\na forthcoming international sports, cultural, and\\neducational event that will be hosted in Buenos\\nAires, Argentina between 6 and 18'"
      ]
     },
     "execution_count": 32,
     "metadata": {},
     "output_type": "execute_result"
    }
   ],
   "source": [
    "dedent_text('''The 2018 Summer Youth Olympic Games (Spanish:\n",
    "Juegos Olímpicos de la Juventud de 2018),\n",
    "officially known as the III Summer Youth Olympic\n",
    "Games, and commonly known as Buenos Aires 2018, is\n",
    "a forthcoming international sports, cultural, and\n",
    "educational event that will be hosted in Buenos\n",
    "Aires, Argentina between 6 and 18''')"
   ]
  },
  {
   "cell_type": "code",
   "execution_count": 33,
   "metadata": {},
   "outputs": [
    {
     "name": "stdout",
     "output_type": "stream",
     "text": [
      "  BIaaceehmppsuy\n"
     ]
    }
   ],
   "source": [
    "#22 Write a Python program to sort a string lexicographically\n",
    "ip_string='Because Im happy'\n",
    "sorted_string=''\n",
    "letters=[x for x in ip_string]\n",
    "letters.sort()\n",
    "for i in letters:\n",
    "    sorted_string=sorted_string+i\n",
    "print (sorted_string)\n",
    "    "
   ]
  },
  {
   "cell_type": "code",
   "execution_count": null,
   "metadata": {},
   "outputs": [],
   "source": [
    "#28 Write a Python program to add a prefix text to all of the lines in a string\n",
    "#incomplete\n",
    "import textwrap\n",
    "a='Happy. mango. please. iopmnb'\n",
    "print (c)\n",
    "b=a.replace('.','[\\n]')\n",
    "b"
   ]
  },
  {
   "cell_type": "code",
   "execution_count": 34,
   "metadata": {},
   "outputs": [
    {
     "name": "stdout",
     "output_type": "stream",
     "text": [
      "enter the float number:6.77890\n",
      "6.78\n"
     ]
    }
   ],
   "source": [
    "#30 Write a Python program to print the following floating numbers upto 2 decimal places\n",
    "num=float(input('enter the float number:'))\n",
    "print (round(num,2))"
   ]
  },
  {
   "cell_type": "code",
   "execution_count": 37,
   "metadata": {},
   "outputs": [
    {
     "name": "stdout",
     "output_type": "stream",
     "text": [
      "enter a floating number:9.6875\n",
      "+ 9.69\n"
     ]
    }
   ],
   "source": [
    "# 31 Write a Python program to print the following floating numbers upto 2 decimal places with a sign.\n",
    "num=float(input('enter a floating number:'))\n",
    "if num<0:\n",
    "    print(round(num,2))\n",
    "else:\n",
    "    print ('+',round(num,2))"
   ]
  },
  {
   "cell_type": "code",
   "execution_count": 40,
   "metadata": {},
   "outputs": [
    {
     "name": "stdout",
     "output_type": "stream",
     "text": [
      "enter the float number:12.34\n",
      "12\n"
     ]
    }
   ],
   "source": [
    "# 32 Write a Python program to print the following floating numbers with no decimal places\n",
    "num=float(input('enter the float number:'))\n",
    "print (round(num))"
   ]
  },
  {
   "cell_type": "code",
   "execution_count": 42,
   "metadata": {},
   "outputs": [],
   "source": [
    "# 33 Write a Python program to print the following integers with zeros on the left of specified width\n",
    "def zero(string,width):\n",
    "    return string.zfill(width)"
   ]
  },
  {
   "cell_type": "code",
   "execution_count": 43,
   "metadata": {},
   "outputs": [
    {
     "data": {
      "text/plain": [
       "'000000000000000000000000000000000000000Hello world'"
      ]
     },
     "execution_count": 43,
     "metadata": {},
     "output_type": "execute_result"
    }
   ],
   "source": [
    "zero('Hello world',50)"
   ]
  },
  {
   "cell_type": "code",
   "execution_count": 56,
   "metadata": {},
   "outputs": [],
   "source": [
    "#34 Write a Python program to print the following integers with '*' on the right of specified width\n",
    "def padding(string,width):\n",
    "    print (string.rjust(50,'*'))\n",
    "    \n",
    "    "
   ]
  },
  {
   "cell_type": "code",
   "execution_count": 57,
   "metadata": {},
   "outputs": [
    {
     "name": "stdout",
     "output_type": "stream",
     "text": [
      "***********************************************123\n"
     ]
    }
   ],
   "source": [
    "padding('123',10)"
   ]
  },
  {
   "cell_type": "code",
   "execution_count": 59,
   "metadata": {},
   "outputs": [
    {
     "ename": "TypeError",
     "evalue": "'int' object is not iterable",
     "output_type": "error",
     "traceback": [
      "\u001b[1;31m---------------------------------------------------------------------------\u001b[0m",
      "\u001b[1;31mTypeError\u001b[0m                                 Traceback (most recent call last)",
      "\u001b[1;32m<ipython-input-59-97135d254570>\u001b[0m in \u001b[0;36m<module>\u001b[1;34m()\u001b[0m\n\u001b[0;32m      2\u001b[0m \u001b[1;31m#x=int(input('Enter the number:'))\u001b[0m\u001b[1;33m\u001b[0m\u001b[1;33m\u001b[0m\u001b[0m\n\u001b[0;32m      3\u001b[0m \u001b[0mx\u001b[0m\u001b[1;33m=\u001b[0m\u001b[1;36m300000\u001b[0m\u001b[1;33m\u001b[0m\u001b[0m\n\u001b[1;32m----> 4\u001b[1;33m \u001b[0my\u001b[0m\u001b[1;33m=\u001b[0m\u001b[1;33m[\u001b[0m\u001b[0mi\u001b[0m \u001b[1;32mfor\u001b[0m \u001b[0mi\u001b[0m \u001b[1;32min\u001b[0m \u001b[0mx\u001b[0m\u001b[1;33m]\u001b[0m\u001b[1;33m\u001b[0m\u001b[0m\n\u001b[0m\u001b[0;32m      5\u001b[0m \u001b[0mprint\u001b[0m \u001b[1;33m(\u001b[0m\u001b[0my\u001b[0m\u001b[1;33m)\u001b[0m\u001b[1;33m\u001b[0m\u001b[0m\n",
      "\u001b[1;31mTypeError\u001b[0m: 'int' object is not iterable"
     ]
    }
   ],
   "source": [
    "#35 Write a Python program to display a number with a comma separator\n",
    "#x=int(input('Enter the number:'))\n",
    "x=300000\n"
   ]
  },
  {
   "cell_type": "code",
   "execution_count": null,
   "metadata": {},
   "outputs": [],
   "source": []
  }
 ],
 "metadata": {
  "kernelspec": {
   "display_name": "Python 3",
   "language": "python",
   "name": "python3"
  },
  "language_info": {
   "codemirror_mode": {
    "name": "ipython",
    "version": 3
   },
   "file_extension": ".py",
   "mimetype": "text/x-python",
   "name": "python",
   "nbconvert_exporter": "python",
   "pygments_lexer": "ipython3",
   "version": "3.6.5"
  }
 },
 "nbformat": 4,
 "nbformat_minor": 2
}
