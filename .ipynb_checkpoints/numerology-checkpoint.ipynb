{
 "cells": [
  {
   "cell_type": "code",
   "execution_count": 1,
   "metadata": {},
   "outputs": [
    {
     "name": "stdout",
     "output_type": "stream",
     "text": [
      "Enter any number from 1 to 10 :7\n",
      "You will be rich\n"
     ]
    }
   ],
   "source": [
    "p=int(input(\"Enter any number from 1 to 10 :\"))\n",
    "if p==1:\n",
    "    print('You are a beautiful soul')\n",
    "elif p==2:\n",
    "    print('You are an awesome person')\n",
    "elif p==3:\n",
    "    print('You are impossible')\n",
    "elif p==4:\n",
    "    print('Yoe are a born genius')\n",
    "elif p==5:\n",
    "    print('You are a good friend')\n",
    "elif p==6:\n",
    "    print ('You will be famous')\n",
    "elif p==7:\n",
    "    print('You will be rich')\n",
    "elif p==8:\n",
    "    print('You are too boring')\n",
    "elif p==9:\n",
    "    print('You will travel a lot')\n",
    "elif p==10:\n",
    "    print('You are a creative person')"
   ]
  },
  {
   "cell_type": "code",
   "execution_count": null,
   "metadata": {},
   "outputs": [],
   "source": []
  }
 ],
 "metadata": {
  "kernelspec": {
   "display_name": "Python 3",
   "language": "python",
   "name": "python3"
  },
  "language_info": {
   "codemirror_mode": {
    "name": "ipython",
    "version": 3
   },
   "file_extension": ".py",
   "mimetype": "text/x-python",
   "name": "python",
   "nbconvert_exporter": "python",
   "pygments_lexer": "ipython3",
   "version": "3.6.5"
  }
 },
 "nbformat": 4,
 "nbformat_minor": 2
}
