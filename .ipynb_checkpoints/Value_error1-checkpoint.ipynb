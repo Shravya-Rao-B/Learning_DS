{
 "cells": [
  {
   "cell_type": "code",
   "execution_count": 3,
   "metadata": {},
   "outputs": [
    {
     "name": "stdout",
     "output_type": "stream",
     "text": [
      "Guess a number between 1 t0 100:56\n",
      "Guess lower\n",
      "Guess a number between 1 t0 100:40\n",
      "Guess lower\n",
      "Guess a number between 1 t0 100:df\n",
      "Please type an integer between 1 to 100\n",
      "Guess a number between 1 t0 100:20\n",
      "Guess higher\n",
      "Guess a number between 1 t0 100:25\n",
      "Guess higher\n",
      "Guess a number between 1 t0 100:26\n",
      "Guess higher\n",
      "Guess a number between 1 t0 100:27\n",
      "Guess higher\n",
      "Guess a number between 1 t0 100:28\n",
      "Guess higher\n",
      "Guess a number between 1 t0 100:29\n",
      "Guess higher\n",
      "Guess a number between 1 t0 100:30\n",
      "congrats\n"
     ]
    }
   ],
   "source": [
    "import random\n",
    "comguess=random.randint(0,100)\n",
    "while True:\n",
    "    try:\n",
    "        userguess=int(input(\"Guess a number between 1 t0 100:\"))\n",
    "        if userguess>comguess:\n",
    "            print('Guess lower')\n",
    "        elif userguess<comguess:\n",
    "            print('Guess higher')\n",
    "        else:\n",
    "            print('congrats')\n",
    "            break\n",
    "    except:\n",
    "        print('Please type an integer between 1 to 100')\n"
   ]
  },
  {
   "cell_type": "code",
   "execution_count": null,
   "metadata": {},
   "outputs": [],
   "source": []
  }
 ],
 "metadata": {
  "kernelspec": {
   "display_name": "Python 3",
   "language": "python",
   "name": "python3"
  },
  "language_info": {
   "codemirror_mode": {
    "name": "ipython",
    "version": 3
   },
   "file_extension": ".py",
   "mimetype": "text/x-python",
   "name": "python",
   "nbconvert_exporter": "python",
   "pygments_lexer": "ipython3",
   "version": "3.6.5"
  }
 },
 "nbformat": 4,
 "nbformat_minor": 2
}
