{
 "cells": [
  {
   "cell_type": "code",
   "execution_count": 13,
   "metadata": {},
   "outputs": [
    {
     "name": "stdout",
     "output_type": "stream",
     "text": [
      "  BIaaceehmppsuy\n"
     ]
    }
   ],
   "source": [
    "#22 Write a Python program to sort a string lexicographically\n",
    "ip_string='Because Im happy'\n",
    "sorted_string=''\n",
    "letters=[x for x in ip_string]\n",
    "letters.sort()\n",
    "for i in letters:\n",
    "    sorted_string=sorted_string+i\n",
    "print (sorted_string)\n",
    "    "
   ]
  },
  {
   "cell_type": "code",
   "execution_count": 25,
   "metadata": {},
   "outputs": [
    {
     "name": "stdout",
     "output_type": "stream",
     "text": [
      "a\n"
     ]
    },
    {
     "data": {
      "text/plain": [
       "'Happy[\\n] mango[\\n] please[\\n] iopmnb'"
      ]
     },
     "execution_count": 25,
     "metadata": {},
     "output_type": "execute_result"
    }
   ],
   "source": [
    "#28 Write a Python program to add a prefix text to all of the lines in a string\n",
    "import textwrap\n",
    "a='Happy. mango. please. iopmnb'\n",
    "print (c)\n",
    "b=a.replace('.','[\\n]')\n",
    "b"
   ]
  },
  {
   "cell_type": "code",
   "execution_count": 27,
   "metadata": {},
   "outputs": [
    {
     "name": "stdout",
     "output_type": "stream",
     "text": [
      "enter the float number:3.4566666\n",
      "3.46\n"
     ]
    }
   ],
   "source": [
    "#30 Write a Python program to print the following floating numbers upto 2 decimal places\n",
    "num=float(input('enter the float number:'))\n",
    "print (round(num,2))"
   ]
  },
  {
   "cell_type": "code",
   "execution_count": null,
   "metadata": {},
   "outputs": [],
   "source": [
    "#Write a Python program to print the following floating numbers upto 2 decimal places with a sign.\n",
    "num=float(input('enter a floating number:'))\n",
    "if num<0:\n",
    "    print(round(num,2))\n",
    "else:\n",
    "    print ('+',round(num,2))"
   ]
  },
  {
   "cell_type": "code",
   "execution_count": null,
   "metadata": {},
   "outputs": [],
   "source": []
  }
 ],
 "metadata": {
  "kernelspec": {
   "display_name": "Python 3",
   "language": "python",
   "name": "python3"
  },
  "language_info": {
   "codemirror_mode": {
    "name": "ipython",
    "version": 3
   },
   "file_extension": ".py",
   "mimetype": "text/x-python",
   "name": "python",
   "nbconvert_exporter": "python",
   "pygments_lexer": "ipython3",
   "version": "3.6.5"
  }
 },
 "nbformat": 4,
 "nbformat_minor": 2
}
