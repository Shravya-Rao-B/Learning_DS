{
 "cells": [
  {
   "cell_type": "code",
   "execution_count": 2,
   "metadata": {},
   "outputs": [
    {
     "name": "stdout",
     "output_type": "stream",
     "text": [
      "Twinkle, twinkle, little star,\n",
      "\t How I wonder what you are!\n",
      "\t     Up above the world so high,\n",
      "\t     Like a diamond in the sky.\n",
      " Twinkle, twinkle, little star,\n",
      "\t How I wonder what you are\n"
     ]
    }
   ],
   "source": [
    "#1. Sample String : \"Twinkle, twinkle, little star, How I wonder what you are! Up above the world so high, Like a diamond in the sky. Twinkle, twinkle, little star, How I wonder what you are\" \n",
    "#Output :\n",
    "\n",
    "#Twinkle, twinkle, little star,\n",
    "#\tHow I wonder what you are! \n",
    "#\t\tUp above the world so high,   \t\t\n",
    "#\t\tLike a diamond in the sky. \n",
    "#Twinkle, twinkle, little star, \n",
    "#\tHow I wonder what you are\n",
    "\n",
    "print (\"Twinkle, twinkle, little star,\\n\\t How I wonder what you are!\\n\\t     Up above the world so high,\\n\\t     Like a diamond in the sky.\\n Twinkle, twinkle, little star,\\n\\t How I wonder what you are\" )\n"
   ]
  },
  {
   "cell_type": "code",
   "execution_count": 3,
   "metadata": {},
   "outputs": [
    {
     "name": "stdout",
     "output_type": "stream",
     "text": [
      "3.6.5 |Anaconda, Inc.| (default, Mar 29 2018, 13:32:41) [MSC v.1900 64 bit (AMD64)]\n",
      "sys.version_info(major=3, minor=6, micro=5, releaselevel='final', serial=0)\n"
     ]
    }
   ],
   "source": [
    "#2 Write a Python program to get the Python version you are using\n",
    "import sys\n",
    "print(sys.version)\n",
    "print(sys.version_info)"
   ]
  },
  {
   "cell_type": "code",
   "execution_count": 4,
   "metadata": {},
   "outputs": [
    {
     "name": "stdout",
     "output_type": "stream",
     "text": [
      "2018-59-10/11/18 16:59:11\n"
     ]
    }
   ],
   "source": [
    "#3 Write a Python program to display the current date and time.\n",
    "#Sample Output : \n",
    "#Current date and time : \n",
    "#2014-07-05 14:34:14\n",
    "\n",
    "import datetime\n",
    "import time\n",
    "print(datetime.datetime.now().strftime('%Y-%M-%D %H:%M:%S'))"
   ]
  },
  {
   "cell_type": "code",
   "execution_count": 5,
   "metadata": {},
   "outputs": [
    {
     "data": {
      "text/plain": [
       "12.56"
      ]
     },
     "execution_count": 5,
     "metadata": {},
     "output_type": "execute_result"
    }
   ],
   "source": [
    "#4 Write a Python program which accepts the radius of a circle from the user and compute the area\n",
    "def circle_area(r):\n",
    "    return round((3.14*2*2),2)\n",
    "\n",
    "circle_area(2)"
   ]
  },
  {
   "cell_type": "code",
   "execution_count": 6,
   "metadata": {},
   "outputs": [
    {
     "name": "stdout",
     "output_type": "stream",
     "text": [
      "Enter your first name:Shravya\n",
      "Enter your last name:Rao\n",
      "Shravya Rao\n"
     ]
    }
   ],
   "source": [
    "#5 Write a Python program which accepts the users first and last name and print them in reverse order with a space between them. \n",
    "first_name=input('Enter your first name:')\n",
    "last_name=input('Enter your last name:')\n",
    "name=first_name+' '+last_name\n",
    "print (name)"
   ]
  },
  {
   "cell_type": "code",
   "execution_count": 7,
   "metadata": {},
   "outputs": [
    {
     "name": "stdout",
     "output_type": "stream",
     "text": [
      "('3', ' 5', ' 7', ' 23')\n"
     ]
    }
   ],
   "source": [
    "# 6Write a Python program which accepts a sequence of comma-separated numbers from user and generate a list and a tuple with those numbers. Go to the editor\n",
    "#Sample data : 3, 5, 7, 23\n",
    "#Output : \n",
    "#List : ['3', ' 5', ' 7', ' 23'] \n",
    "#Tuple : ('3', ' 5', ' 7', ' 23')\n",
    "ls=['3', ' 5', ' 7', ' 23'] \n",
    "tup=tuple(ls)\n",
    "print (tup)"
   ]
  },
  {
   "cell_type": "code",
   "execution_count": 8,
   "metadata": {},
   "outputs": [
    {
     "name": "stdout",
     "output_type": "stream",
     "text": [
      "Enter the file name:python.py\n",
      "py\n"
     ]
    }
   ],
   "source": [
    "# 7Write a Python program to accept a filename from the user and print the extension of that. Go to the editor\n",
    "#Sample filename : abc.java \n",
    "#Output : java\n",
    "file_name=input('Enter the file name:')\n",
    "a=file_name.find('.')\n",
    "extension=file_name[a+1:]\n",
    "print (extension)"
   ]
  },
  {
   "cell_type": "code",
   "execution_count": 9,
   "metadata": {},
   "outputs": [
    {
     "name": "stdout",
     "output_type": "stream",
     "text": [
      "first color: Red \n",
      "second color: Black\n"
     ]
    }
   ],
   "source": [
    "#8 Write a Python program to display the first and last colors from the following list.\n",
    "\n",
    "color_list = [\"Red\",\"Green\",\"White\" ,\"Black\"]\n",
    "print ('first color:',color_list[0],'\\nsecond color:',color_list[-1])\n"
   ]
  },
  {
   "cell_type": "code",
   "execution_count": 10,
   "metadata": {},
   "outputs": [
    {
     "name": "stdout",
     "output_type": "stream",
     "text": [
      "The examination will start from:11 / 12 /2014\n"
     ]
    }
   ],
   "source": [
    "#9 Write a Python program to display the examination schedule. (extract the date from exam_st_date). Go to the editor\n",
    "exam_st_date = (11, 12, 2014)\n",
    "#Sample Output : The examination will start from : 11 / 12 / 2014\n",
    "\n",
    "print ('The examination will start from:%i / %i /%i'%exam_st_date)"
   ]
  },
  {
   "cell_type": "code",
   "execution_count": 11,
   "metadata": {},
   "outputs": [
    {
     "name": "stdout",
     "output_type": "stream",
     "text": [
      "5 55 555\n",
      "615\n"
     ]
    }
   ],
   "source": [
    "#10 Write a Python program that accepts an integer (n) and computes the value of n+nn+nnn\n",
    "n=5\n",
    "num=str(n)\n",
    "num1=num\n",
    "num2=num+num\n",
    "num3=num+num+num\n",
    "print (num1,num2,num3)\n",
    "print (int(num1)+int(num2)+int(num3))"
   ]
  },
  {
   "cell_type": "code",
   "execution_count": 12,
   "metadata": {},
   "outputs": [
    {
     "ename": "AttributeError",
     "evalue": "'builtin_function_or_method' object has no attribute 'circle_area'",
     "output_type": "error",
     "traceback": [
      "\u001b[1;31m---------------------------------------------------------------------------\u001b[0m",
      "\u001b[1;31mAttributeError\u001b[0m                            Traceback (most recent call last)",
      "\u001b[1;32m<ipython-input-12-73a19ffee5ef>\u001b[0m in \u001b[0;36m<module>\u001b[1;34m()\u001b[0m\n\u001b[0;32m      4\u001b[0m \u001b[1;31m#abs(number) -> number\u001b[0m\u001b[1;33m\u001b[0m\u001b[1;33m\u001b[0m\u001b[0m\n\u001b[0;32m      5\u001b[0m \u001b[1;31m#Return the absolute value of the argument.\u001b[0m\u001b[1;33m\u001b[0m\u001b[1;33m\u001b[0m\u001b[0m\n\u001b[1;32m----> 6\u001b[1;33m \u001b[0mprint\u001b[0m\u001b[1;33m(\u001b[0m\u001b[0mabs\u001b[0m\u001b[1;33m.\u001b[0m\u001b[0mcircle_area\u001b[0m\u001b[1;33m.\u001b[0m\u001b[0m__doc__\u001b[0m\u001b[1;33m)\u001b[0m\u001b[1;33m\u001b[0m\u001b[0m\n\u001b[0m",
      "\u001b[1;31mAttributeError\u001b[0m: 'builtin_function_or_method' object has no attribute 'circle_area'"
     ]
    }
   ],
   "source": [
    "# 11 Write a Python program to print the documents (syntax, description etc.) of Python built-in function(s). \n",
    "#Sample function : abs()\n",
    "#Expected Result : \n",
    "#abs(number) -> number\n",
    "#Return the absolute value of the argument.\n",
    "print(abs.circle_area.__doc__)"
   ]
  },
  {
   "cell_type": "code",
   "execution_count": 13,
   "metadata": {},
   "outputs": [
    {
     "name": "stdout",
     "output_type": "stream",
     "text": [
      "    October 2018\n",
      "Mo Tu We Th Fr Sa Su\n",
      " 1  2  3  4  5  6  7\n",
      " 8  9 10 11 12 13 14\n",
      "15 16 17 18 19 20 21\n",
      "22 23 24 25 26 27 28\n",
      "29 30 31\n",
      "\n"
     ]
    }
   ],
   "source": [
    "#12 Write a Python program to print the calendar of a given month and year.\n",
    "import calendar\n",
    "a=calendar.month(2018,10)\n",
    "print (a)"
   ]
  },
  {
   "cell_type": "code",
   "execution_count": 14,
   "metadata": {},
   "outputs": [
    {
     "name": "stdout",
     "output_type": "stream",
     "text": [
      "a string that you \"don't\" have to escape\n",
      "This\n",
      "is a ....... multi-line\n",
      "heredoc string --------> example\n"
     ]
    }
   ],
   "source": [
    "#13 print this string:\n",
    "string='''a string that you \"don't\" have to escape\n",
    "This\n",
    "is a ....... multi-line\n",
    "heredoc string --------> example'''\n",
    "print (string)"
   ]
  },
  {
   "cell_type": "code",
   "execution_count": 15,
   "metadata": {},
   "outputs": [
    {
     "name": "stdout",
     "output_type": "stream",
     "text": [
      "9\n"
     ]
    }
   ],
   "source": [
    "#14 Write a Python program to calculate number of days between two dates.\n",
    "#Sample dates : (2014, 7, 2), (2014, 7, 11)\n",
    "import datetime\n",
    "start_date=datetime.date(2014, 7, 2)\n",
    "end_date=datetime.date(2014, 7, 11)\n",
    "diff=end_date-start_date\n",
    "print(diff.days)"
   ]
  },
  {
   "cell_type": "code",
   "execution_count": 16,
   "metadata": {},
   "outputs": [
    {
     "data": {
      "text/plain": [
       "63.585"
      ]
     },
     "execution_count": 16,
     "metadata": {},
     "output_type": "execute_result"
    }
   ],
   "source": [
    "#15 Write a Python program to get the volume of a sphere with radius 6.\n",
    "#v=3/4*3.14*r**3\n",
    "def sphere_vol(r):\n",
    "    return (3/4*3.14*r**3)\n",
    "\n",
    "sphere_vol(3)"
   ]
  },
  {
   "cell_type": "code",
   "execution_count": 17,
   "metadata": {},
   "outputs": [
    {
     "data": {
      "text/plain": [
       "4"
      ]
     },
     "execution_count": 17,
     "metadata": {},
     "output_type": "execute_result"
    }
   ],
   "source": [
    "# 16 Write a Python program to get the difference between a given number and 17,\n",
    "#if the number is greater than 17 return double the absolute difference\n",
    "\n",
    "def absolute_diff(num,val=17):\n",
    "    if num<=17:\n",
    "        return 17-num\n",
    "    elif num>17:\n",
    "        return (num-17)*2   \n",
    "    \n",
    "absolute_diff(19,17)"
   ]
  },
  {
   "cell_type": "code",
   "execution_count": 18,
   "metadata": {},
   "outputs": [
    {
     "data": {
      "text/plain": [
       "800"
      ]
     },
     "execution_count": 18,
     "metadata": {},
     "output_type": "execute_result"
    }
   ],
   "source": [
    "# 17 Write a Python program to test whether a number is within 100 of 1000 or 2000\n",
    "#incomplete\n",
    "a=abs(1000-200)\n",
    "a"
   ]
  },
  {
   "cell_type": "code",
   "execution_count": 20,
   "metadata": {},
   "outputs": [],
   "source": [
    "#18 Write a Python program to calculate the sum of three given numbers,\n",
    "#if the values are equal then return thrice of their sum\n",
    "\n",
    "def sum_3(n1,n2,n3):\n",
    "    if n1==n2==n3:\n",
    "        return (n1+n2+n3)*3\n",
    "        \n",
    "    else:\n",
    "        return n1+n2+n3"
   ]
  },
  {
   "cell_type": "code",
   "execution_count": 21,
   "metadata": {},
   "outputs": [
    {
     "data": {
      "text/plain": [
       "18"
      ]
     },
     "execution_count": 21,
     "metadata": {},
     "output_type": "execute_result"
    }
   ],
   "source": [
    "sum_3(2,2,2)"
   ]
  },
  {
   "cell_type": "code",
   "execution_count": 22,
   "metadata": {},
   "outputs": [],
   "source": [
    "#19 Write a Python program to get a new string from a given string where \"Is\" has been added to the front. \n",
    "#If the given string already begins with \"Is\" then return the string unchanged\n",
    "def Prefix_is(string):\n",
    "    if string[0:2].lower()=='is':\n",
    "        return string\n",
    "    else:\n",
    "        return 'Is'+string\n",
    "        "
   ]
  },
  {
   "cell_type": "code",
   "execution_count": 23,
   "metadata": {},
   "outputs": [
    {
     "data": {
      "text/plain": [
       "'Is it right?'"
      ]
     },
     "execution_count": 23,
     "metadata": {},
     "output_type": "execute_result"
    }
   ],
   "source": [
    "Prefix_is(' it right?')"
   ]
  },
  {
   "cell_type": "code",
   "execution_count": 24,
   "metadata": {},
   "outputs": [
    {
     "data": {
      "text/plain": [
       "'Hi hello byeHi hello byeHi hello bye'"
      ]
     },
     "execution_count": 24,
     "metadata": {},
     "output_type": "execute_result"
    }
   ],
   "source": [
    "#20 Write a Python program to get a string which is n (non-negative integer) copies of a given string\n",
    "def string_copy(string,n):\n",
    "    if n==0:\n",
    "        print ('Please enter a non zero and non negative number')\n",
    "    else:\n",
    "        return (string*n)\n",
    "\n",
    "string_copy('Hi hello bye',3)"
   ]
  },
  {
   "cell_type": "code",
   "execution_count": 25,
   "metadata": {},
   "outputs": [],
   "source": [
    "#21 write a Python program to find whether a given number (accept from the user) is even or odd, print out an appropriate message to the user.\n",
    "def num_check(n):\n",
    "    if n%2==0:\n",
    "        return print ('The number is even:',n)\n",
    "    else:\n",
    "        return print ('The number is odd:',n)"
   ]
  },
  {
   "cell_type": "code",
   "execution_count": 26,
   "metadata": {},
   "outputs": [
    {
     "name": "stdout",
     "output_type": "stream",
     "text": [
      "The number is even: 34\n"
     ]
    }
   ],
   "source": [
    "num_check(34)"
   ]
  },
  {
   "cell_type": "code",
   "execution_count": 27,
   "metadata": {},
   "outputs": [],
   "source": [
    "#22 Write a Python program to count the number 4 in a given list\n",
    "def count_4(ls):\n",
    "    count=ls.count(4)\n",
    "    return print ('The number of 4 in the list is:',count)"
   ]
  },
  {
   "cell_type": "code",
   "execution_count": 28,
   "metadata": {},
   "outputs": [
    {
     "name": "stdout",
     "output_type": "stream",
     "text": [
      "The number of 4 in the list is: 3\n"
     ]
    }
   ],
   "source": [
    "count_4([1,2,3,7,4,4,5,4,7])"
   ]
  },
  {
   "cell_type": "code",
   "execution_count": 29,
   "metadata": {},
   "outputs": [],
   "source": [
    "# 23 rite a Python program to get the n (non-negative integer) copies of the first 2 characters of a given string. \n",
    "#Return the n copies of the whole string if the length is less than 2.\n",
    "def copy_2(string,n):\n",
    "    if len(string)<2:\n",
    "        return (string*n)\n",
    "    else:\n",
    "        string1=string[0:2]\n",
    "        return (string1*n)"
   ]
  },
  {
   "cell_type": "code",
   "execution_count": 30,
   "metadata": {},
   "outputs": [
    {
     "data": {
      "text/plain": [
       "'UpUpUpUpUpUpUp'"
      ]
     },
     "execution_count": 30,
     "metadata": {},
     "output_type": "execute_result"
    }
   ],
   "source": [
    "copy_2('Up n down',7)"
   ]
  },
  {
   "cell_type": "markdown",
   "metadata": {},
   "source": []
  },
  {
   "cell_type": "code",
   "execution_count": 31,
   "metadata": {},
   "outputs": [],
   "source": [
    "#24 Write a Python program to test whether a passed letter is a vowel or not\n",
    "vowel='aeiou'\n",
    "def check_vowel(letter):\n",
    "    if letter.lower() in vowel:\n",
    "        return print ('It is a vovwel!\\n',letter)\n",
    "    else:\n",
    "        return print ('It is not a vowel!\\n',letter)"
   ]
  },
  {
   "cell_type": "code",
   "execution_count": 32,
   "metadata": {},
   "outputs": [
    {
     "name": "stdout",
     "output_type": "stream",
     "text": [
      "It is not a vowel!\n",
      " z\n"
     ]
    }
   ],
   "source": [
    "check_vowel('z')"
   ]
  },
  {
   "cell_type": "code",
   "execution_count": 33,
   "metadata": {},
   "outputs": [],
   "source": [
    "#Write a Python program to check whether a specified value is contained in a group of values. Go to the editor\n",
    "#Test Data : \n",
    "#3 -> [1, 5, 8, 3] : True\n",
    "#-1 -> [1, 5, 8, 3] : False\n",
    "\n",
    "def num_check(lis1,num):\n",
    "    if num in lis1:\n",
    "        return print ('number is present in the list\\n list:',lis1,'\\nnumber:',num)\n",
    "    else:\n",
    "        return print ('Number is not present in the list\\n list:',lis1,'\\nnumber:',num)"
   ]
  },
  {
   "cell_type": "code",
   "execution_count": 34,
   "metadata": {},
   "outputs": [
    {
     "name": "stdout",
     "output_type": "stream",
     "text": [
      "Number is not present in the list\n",
      " list: [1, 2, 3, 4, 5, 7] \n",
      "number: 6\n"
     ]
    }
   ],
   "source": [
    "num_check([1,2,3,4,5,7],6)"
   ]
  },
  {
   "cell_type": "code",
   "execution_count": 35,
   "metadata": {},
   "outputs": [
    {
     "name": "stdout",
     "output_type": "stream",
     "text": [
      "**\n",
      "***\n",
      "******\n",
      "*****\n"
     ]
    }
   ],
   "source": [
    "#26  Write a Python program to create a histogram from a given list of integers\n",
    "lis=[2,3,6,5]\n",
    "for x in lis:\n",
    "    print ('*'*x)"
   ]
  },
  {
   "cell_type": "code",
   "execution_count": 36,
   "metadata": {},
   "outputs": [
    {
     "name": "stdout",
     "output_type": "stream",
     "text": [
      " 3456799100\n"
     ]
    }
   ],
   "source": [
    "# 27 Write a Python program to concatenate all elements in a list into a string and return it.\n",
    "lis=[3,45,6,7,99,100]\n",
    "#lis2=['a','p','p','l','e']\n",
    "string=' '\n",
    "for x in lis:\n",
    "    string=string+str(x)\n",
    "print (string)"
   ]
  },
  {
   "cell_type": "code",
   "execution_count": 37,
   "metadata": {},
   "outputs": [
    {
     "name": "stdout",
     "output_type": "stream",
     "text": [
      "[386, 462, 418, 344, 236, 566, 978, 328, 162, 758, 918]\n"
     ]
    }
   ],
   "source": [
    "# 28 Write a Python program to print all even numbers from a given numbers list in the same order and stop the printing if any numbers that come after 237 in the sequence. Go to the editor\n",
    "#Sample numbers list :\n",
    "numbers = [    \n",
    "    386, 462, 47, 418, 907, 344, 236, 375, 823, 566, 597, 978, 328, 615, 953, 345, \n",
    "    399, 162, 758, 219, 918, 237, 412, 566, 826, 248, 866, 950, 626, 949, 687, 217, \n",
    "    815, 67, 104, 58, 512, 24, 892, 894, 767, 553, 81, 379, 843, 831, 445, 742, 717, \n",
    "    958,743, 527\n",
    "    ]\n",
    "a=numbers.index(237)\n",
    "result=[]\n",
    "for x in numbers[0:22]:\n",
    "    if (x%2==0):\n",
    "        result.append(x)\n",
    "print (result)\n",
    "        "
   ]
  },
  {
   "cell_type": "code",
   "execution_count": 38,
   "metadata": {},
   "outputs": [
    {
     "data": {
      "text/plain": [
       "{'Black', 'White'}"
      ]
     },
     "execution_count": 38,
     "metadata": {},
     "output_type": "execute_result"
    }
   ],
   "source": [
    "#29 Write a Python program to print out a set containing all the colors from color_list_1 which are not present in color_list_2. Go to the editor\n",
    "color_list_1 = set([\"White\", \"Black\", \"Red\"]) \n",
    "color_list_2 = set([\"Red\", \"Green\"])\n",
    "color_list3=color_list_1-color_list_2\n",
    "color_list3"
   ]
  },
  {
   "cell_type": "code",
   "execution_count": 39,
   "metadata": {},
   "outputs": [],
   "source": [
    "#30 Write a Python program that will accept the base and height of a triangle and compute the area.\n",
    "def trianlge_area(b,h):\n",
    "    return (0.5*b*h)"
   ]
  },
  {
   "cell_type": "code",
   "execution_count": 40,
   "metadata": {},
   "outputs": [
    {
     "data": {
      "text/plain": [
       "6.0"
      ]
     },
     "execution_count": 40,
     "metadata": {},
     "output_type": "execute_result"
    }
   ],
   "source": [
    "trianlge_area(4,3)"
   ]
  },
  {
   "cell_type": "code",
   "execution_count": 41,
   "metadata": {},
   "outputs": [],
   "source": [
    "#31 Write a Python program to compute the greatest common divisor (GCD) of two positive integers.\n",
    "def GCD(num1,num2):\n",
    "    num1_factors=[]\n",
    "    num2_factors=[]\n",
    "    for x in range(1,num1+1):\n",
    "        if num1%x==0:\n",
    "            num1_factors.append(x)\n",
    "    #return (num1_factors)\n",
    "    for x in range(1,num2+1):\n",
    "        if num2%x==0:\n",
    "            num2_factors.append(x)\n",
    "    #return (num2_factors)\n",
    "    num1_factors=set(num1_factors)\n",
    "    num2_factors=set(num2_factors)\n",
    "    common_factors=num1_factors.intersection(num2_factors)\n",
    "    #common_factors1=list(common_factors)\n",
    "    return print (max(common_factors))\n"
   ]
  },
  {
   "cell_type": "code",
   "execution_count": 44,
   "metadata": {},
   "outputs": [
    {
     "name": "stdout",
     "output_type": "stream",
     "text": [
      "15\n"
     ]
    }
   ],
   "source": [
    "GCD(15,30)"
   ]
  },
  {
   "cell_type": "code",
   "execution_count": 43,
   "metadata": {},
   "outputs": [
    {
     "name": "stdout",
     "output_type": "stream",
     "text": [
      "17\n"
     ]
    }
   ],
   "source": [
    "GCD(34,51)"
   ]
  },
  {
   "cell_type": "code",
   "execution_count": null,
   "metadata": {},
   "outputs": [],
   "source": []
  }
 ],
 "metadata": {
  "kernelspec": {
   "display_name": "Python 3",
   "language": "python",
   "name": "python3"
  },
  "language_info": {
   "codemirror_mode": {
    "name": "ipython",
    "version": 3
   },
   "file_extension": ".py",
   "mimetype": "text/x-python",
   "name": "python",
   "nbconvert_exporter": "python",
   "pygments_lexer": "ipython3",
   "version": "3.6.5"
  }
 },
 "nbformat": 4,
 "nbformat_minor": 2
}
