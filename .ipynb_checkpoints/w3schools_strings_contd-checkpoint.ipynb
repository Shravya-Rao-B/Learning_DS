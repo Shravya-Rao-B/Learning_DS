{
 "cells": [
  {
   "cell_type": "code",
   "execution_count": 14,
   "metadata": {
    "scrolled": true
   },
   "outputs": [
    {
     "name": "stdout",
     "output_type": "stream",
     "text": [
      "enter you name:Anup Maiya\n",
      "Hello You Anup Maiya \n",
      "you are now studying ************Python************\n",
      " This is how you left justify your code\n",
      " and this is how you right justify           your code\n"
     ]
    }
   ],
   "source": [
    "string1='Hello You'\n",
    "name=input('enter you name:')\n",
    "print ('''Hello You {} \\nyou are now studying {:*^30}\\n This is how you left justify {:<5}\\n and this is how you right justify {:>19}'''.format(name,'Python','your code','your code'))\n"
   ]
  },
  {
   "cell_type": "code",
   "execution_count": 16,
   "metadata": {},
   "outputs": [
    {
     "name": "stdout",
     "output_type": "stream",
     "text": [
      "  3    9    27\n",
      "  4   16    64\n",
      "  5   25   125\n",
      "  6   36   216\n",
      "  7   49   343\n",
      "  8   64   512\n",
      "  9   81   729\n",
      " 10  100  1000\n",
      " 11  121  1331\n",
      " 12  144  1728\n"
     ]
    }
   ],
   "source": [
    "for i in range(3,13):\n",
    "    print('{:3d} {:4d} {:5d}'.format(i, i*i, i*i*i))"
   ]
  },
  {
   "cell_type": "code",
   "execution_count": 28,
   "metadata": {},
   "outputs": [
    {
     "name": "stdout",
     "output_type": "stream",
     "text": [
      "123****** 456******\n"
     ]
    }
   ],
   "source": [
    "#34 Write a Python program to print the following integers with '*' on the right of specified width\n",
    "a=123\n",
    "b=456\n",
    "print ('{:*<9d} {:*<9d}'.format(a,b))"
   ]
  },
  {
   "cell_type": "code",
   "execution_count": null,
   "metadata": {},
   "outputs": [],
   "source": []
  }
 ],
 "metadata": {
  "kernelspec": {
   "display_name": "Python 3",
   "language": "python",
   "name": "python3"
  },
  "language_info": {
   "codemirror_mode": {
    "name": "ipython",
    "version": 3
   },
   "file_extension": ".py",
   "mimetype": "text/x-python",
   "name": "python",
   "nbconvert_exporter": "python",
   "pygments_lexer": "ipython3",
   "version": "3.6.5"
  }
 },
 "nbformat": 4,
 "nbformat_minor": 2
}
