{
 "cells": [
  {
   "cell_type": "code",
   "execution_count": 32,
   "metadata": {},
   "outputs": [
    {
     "name": "stdout",
     "output_type": "stream",
     "text": [
      "Class employee is created\n",
      "Emp: Shravya Rao\n",
      "Class employee is created\n",
      "Emp: Sowmya Maiya\n",
      "Class employee is created\n",
      "Emp: Shruthi Rao\n",
      "Class employee is created\n",
      "Emp: Ghanashyam Sajankila\n"
     ]
    },
    {
     "ename": "AttributeError",
     "evalue": "'Manager' object has no attribute 'count'",
     "output_type": "error",
     "traceback": [
      "\u001b[1;31m---------------------------------------------------------------------------\u001b[0m",
      "\u001b[1;31mAttributeError\u001b[0m                            Traceback (most recent call last)",
      "\u001b[1;32m<ipython-input-32-5626c2282bcc>\u001b[0m in \u001b[0;36m<module>\u001b[1;34m()\u001b[0m\n\u001b[0;32m     19\u001b[0m \u001b[0mEmp3\u001b[0m\u001b[1;33m=\u001b[0m\u001b[0mEmployee\u001b[0m\u001b[1;33m(\u001b[0m\u001b[1;34m'Shruthi'\u001b[0m\u001b[1;33m,\u001b[0m\u001b[1;34m'Rao'\u001b[0m\u001b[1;33m)\u001b[0m\u001b[1;33m\u001b[0m\u001b[0m\n\u001b[0;32m     20\u001b[0m \u001b[1;33m\u001b[0m\u001b[0m\n\u001b[1;32m---> 21\u001b[1;33m \u001b[0mMgr\u001b[0m\u001b[1;33m=\u001b[0m\u001b[0mManager\u001b[0m\u001b[1;33m(\u001b[0m\u001b[1;34m'Ghanashyam'\u001b[0m\u001b[1;33m,\u001b[0m\u001b[1;34m'Sajankila'\u001b[0m\u001b[1;33m)\u001b[0m\u001b[1;33m\u001b[0m\u001b[0m\n\u001b[0m",
      "\u001b[1;32m<ipython-input-32-5626c2282bcc>\u001b[0m in \u001b[0;36m__init__\u001b[1;34m(self, first_name, last_name)\u001b[0m\n\u001b[0;32m     10\u001b[0m     \u001b[1;32mdef\u001b[0m \u001b[0m__init__\u001b[0m\u001b[1;33m(\u001b[0m\u001b[0mself\u001b[0m\u001b[1;33m,\u001b[0m\u001b[0mfirst_name\u001b[0m\u001b[1;33m,\u001b[0m\u001b[0mlast_name\u001b[0m\u001b[1;33m)\u001b[0m\u001b[1;33m:\u001b[0m\u001b[1;33m\u001b[0m\u001b[0m\n\u001b[0;32m     11\u001b[0m         \u001b[0msuper\u001b[0m\u001b[1;33m(\u001b[0m\u001b[1;33m)\u001b[0m\u001b[1;33m.\u001b[0m\u001b[0m__init__\u001b[0m\u001b[1;33m(\u001b[0m\u001b[0mfirst_name\u001b[0m\u001b[1;33m,\u001b[0m\u001b[0mlast_name\u001b[0m\u001b[1;33m)\u001b[0m\u001b[1;33m\u001b[0m\u001b[0m\n\u001b[1;32m---> 12\u001b[1;33m         \u001b[0mself\u001b[0m\u001b[1;33m.\u001b[0m\u001b[0memp_num\u001b[0m\u001b[1;33m=\u001b[0m\u001b[0mself\u001b[0m\u001b[1;33m.\u001b[0m\u001b[0mcount\u001b[0m\u001b[1;33m\u001b[0m\u001b[0m\n\u001b[0m\u001b[0;32m     13\u001b[0m         \u001b[0mprint\u001b[0m\u001b[1;33m(\u001b[0m\u001b[1;34m'Manager is created'\u001b[0m\u001b[1;33m,\u001b[0m\u001b[0mname\u001b[0m\u001b[1;33m)\u001b[0m\u001b[1;33m\u001b[0m\u001b[0m\n\u001b[0;32m     14\u001b[0m         \u001b[0mprint\u001b[0m \u001b[1;33m(\u001b[0m\u001b[1;34m'number of reportees'\u001b[0m\u001b[1;33m,\u001b[0m\u001b[0mself\u001b[0m\u001b[1;33m.\u001b[0m\u001b[0mcount\u001b[0m\u001b[1;33m)\u001b[0m\u001b[1;33m\u001b[0m\u001b[0m\n",
      "\u001b[1;31mAttributeError\u001b[0m: 'Manager' object has no attribute 'count'"
     ]
    }
   ],
   "source": [
    "class Employee(object):\n",
    "    def __init__(self,first_name,last_name):\n",
    "        self.first_name=first_name\n",
    "        self.last_name=last_name\n",
    "        name=self.first_name+' '+self.last_name\n",
    "        print('Class employee is created')\n",
    "        print ('Emp:',name)\n",
    "        \n",
    "class Manager(Employee):\n",
    "    def __init__(self,first_name,last_name):\n",
    "        super().__init__(first_name,last_name)\n",
    "        print('Manager is created',name)\n",
    "        print ('number of reportees',self.count)\n",
    "        \n",
    "        \n",
    "Emp1=Employee('Shravya','Rao')\n",
    "Emp2=Employee('Sowmya','Maiya')\n",
    "Emp3=Employee('Shruthi','Rao')\n",
    "\n",
    "Mgr=Manager('Ghanashyam','Sajankila')"
   ]
  },
  {
   "cell_type": "code",
   "execution_count": null,
   "metadata": {},
   "outputs": [],
   "source": []
  },
  {
   "cell_type": "code",
   "execution_count": 57,
   "metadata": {},
   "outputs": [
    {
     "name": "stdout",
     "output_type": "stream",
     "text": [
      "Enter an string to be Caesar encrypted:xyz\n",
      "xyz\n",
      "zab\n"
     ]
    }
   ],
   "source": [
    "#Write a Python program to create a Caesar encryption\n",
    "#A-->c, B-->D\n",
    "#will not work if step is not 2 and need to alter everytime when it is out of range, coverts original string to lower case.\n",
    "ceaser_string=''\n",
    "ip=input('Enter an string to be Caesar encrypted:')\n",
    "ip_string=ip.lower()\n",
    "print (ip_string)\n",
    "list1=['a','b','c','d','e','f','g','h','i','j','k','l','m','n','o','p','q','r','s','t','u','v','w','x','y','z']\n",
    "for i in ip_string:\n",
    "    if i=='y':\n",
    "        ceaser_string=ceaser_string+'a'\n",
    "    elif i=='z':\n",
    "        ceaser_string=ceaser_string+'b'\n",
    "    else:\n",
    "        pos_in_list1=list1.index(i)\n",
    "        pos_in_list1=pos_in_list1+2\n",
    "        ceaser_string=ceaser_string+list1[pos_in_list1]\n",
    "print (ceaser_string)\n",
    "    "
   ]
  },
  {
   "cell_type": "code",
   "execution_count": 91,
   "metadata": {},
   "outputs": [],
   "source": [
    "# 25.Write a Python program to create a Caesar encryption\n",
    "def encryption(ip,step):\n",
    "    #ip_string=ip.lower()\n",
    "    print ('String input is:',ip)\n",
    "    ceaser_string=' '\n",
    "    list1=['a','b','c','d','e','f','g','h','i','j','k','l','m','n','o','p','q','r','s','t','u','v','w','x','y','z']\n",
    "    list2=['A','B','C','D','E','F','G','H','I','J','K','L','M','N','O','P','Q','R','S','T','U','V','W','X','Y','Z']\n",
    "    for i in ip:\n",
    "        if i in list1:\n",
    "            pos_in_list1=list1.index(i)\n",
    "            pos_in_list1=(pos_in_list1+step)%26\n",
    "            ceaser_string=ceaser_string+list1[pos_in_list1]\n",
    "        elif i in list2:\n",
    "            pos_in_list2=list2.index(i)\n",
    "            pos_in_list2=(pos_in_list2+step)%26\n",
    "            ceaser_string=ceaser_string+list2[pos_in_list2]\n",
    "        elif i==' ':\n",
    "            ceaser_string=ceaser_string+' '\n",
    "    print (ceaser_string)\n",
    "    return"
   ]
  },
  {
   "cell_type": "code",
   "execution_count": 92,
   "metadata": {},
   "outputs": [
    {
     "name": "stdout",
     "output_type": "stream",
     "text": [
      "String input is: HapPy BirtHday\n",
      " LetTc FmvxLhec\n"
     ]
    }
   ],
   "source": [
    "encryption('HapPy BirtHday',4)"
   ]
  },
  {
   "cell_type": "code",
   "execution_count": null,
   "metadata": {},
   "outputs": [],
   "source": []
  }
 ],
 "metadata": {
  "kernelspec": {
   "display_name": "Python 3",
   "language": "python",
   "name": "python3"
  },
  "language_info": {
   "codemirror_mode": {
    "name": "ipython",
    "version": 3
   },
   "file_extension": ".py",
   "mimetype": "text/x-python",
   "name": "python",
   "nbconvert_exporter": "python",
   "pygments_lexer": "ipython3",
   "version": "3.6.5"
  }
 },
 "nbformat": 4,
 "nbformat_minor": 2
}
