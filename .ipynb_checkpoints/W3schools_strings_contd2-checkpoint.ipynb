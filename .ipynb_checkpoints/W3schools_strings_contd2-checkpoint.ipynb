{
 "cells": [
  {
   "cell_type": "code",
   "execution_count": 21,
   "metadata": {},
   "outputs": [
    {
     "ename": "TypeError",
     "evalue": "unsupported operand type(s) for +: '_sre.SRE_Match' and 'int'",
     "output_type": "error",
     "traceback": [
      "\u001b[1;31m---------------------------------------------------------------------------\u001b[0m",
      "\u001b[1;31mTypeError\u001b[0m                                 Traceback (most recent call last)",
      "\u001b[1;32m<ipython-input-21-2bdf54538750>\u001b[0m in \u001b[0;36m<module>\u001b[1;34m()\u001b[0m\n\u001b[0;32m      6\u001b[0m \u001b[1;32mfor\u001b[0m \u001b[0mx\u001b[0m \u001b[1;32min\u001b[0m \u001b[0ma\u001b[0m\u001b[1;33m:\u001b[0m\u001b[1;33m\u001b[0m\u001b[0m\n\u001b[0;32m      7\u001b[0m     \u001b[0mc\u001b[0m\u001b[1;33m=\u001b[0m\u001b[0mre\u001b[0m\u001b[1;33m.\u001b[0m\u001b[0msearch\u001b[0m\u001b[1;33m(\u001b[0m\u001b[1;34m'.'\u001b[0m\u001b[1;33m,\u001b[0m\u001b[0ma\u001b[0m\u001b[1;33m)\u001b[0m\u001b[1;33m\u001b[0m\u001b[0m\n\u001b[1;32m----> 8\u001b[1;33m     \u001b[0mstart\u001b[0m\u001b[1;33m=\u001b[0m\u001b[0mc\u001b[0m\u001b[1;33m+\u001b[0m\u001b[1;36m1\u001b[0m\u001b[1;33m\u001b[0m\u001b[0m\n\u001b[0m\u001b[0;32m      9\u001b[0m     \u001b[0mprint\u001b[0m \u001b[1;33m(\u001b[0m\u001b[0mstart\u001b[0m\u001b[1;33m)\u001b[0m\u001b[1;33m\u001b[0m\u001b[0m\n",
      "\u001b[1;31mTypeError\u001b[0m: unsupported operand type(s) for +: '_sre.SRE_Match' and 'int'"
     ]
    }
   ],
   "source": [
    "#Write a Python program to remove leading zeros from an IP address.\n",
    "#IP: "
   ]
  },
  {
   "cell_type": "code",
   "execution_count": 25,
   "metadata": {},
   "outputs": [
    {
     "name": "stdout",
     "output_type": "stream",
     "text": [
      "27\n"
     ]
    }
   ],
   "source": [
    "# 62 Write a Python program to compute sum of digits of a given string\n",
    "a='12345abcd345'\n",
    "sum1=0\n",
    "for x in a:\n",
    "    if x.isdigit()==True:\n",
    "        sum1=sum1+int(x)\n",
    "print (sum1)\n",
    "        "
   ]
  },
  {
   "cell_type": "code",
   "execution_count": 26,
   "metadata": {},
   "outputs": [
    {
     "name": "stdout",
     "output_type": "stream",
     "text": [
      " python re\n"
     ]
    }
   ],
   "source": [
    "# 61 Write a Python program to remove duplicate characters of a given string\n",
    "a='python prep'\n",
    "result=' '\n",
    "for x in a:\n",
    "    if x not in result:\n",
    "        result=result+x\n",
    "    elif x==' ':\n",
    "        result=result+' '\n",
    "print (result)"
   ]
  },
  {
   "cell_type": "code",
   "execution_count": 47,
   "metadata": {},
   "outputs": [
    {
     "name": "stdout",
     "output_type": "stream",
     "text": [
      " StrinG FunctionS PracticE \n"
     ]
    }
   ],
   "source": [
    "# 60 Write a Python program to capitalize first and last letters of each word of a given string\n",
    "final=' '\n",
    "a='string functions practice'\n",
    "b=a.title()\n",
    "#print (b)\n",
    "sp=b.split()\n",
    "sp_no_last_char=[x[:-1] for x in sp]\n",
    "#print (sp_no_last_char)\n",
    "sp1=[]\n",
    "for x in sp:\n",
    "    sp1.append(x[-1].upper())\n",
    "#print (sp1)\n",
    "result=list(map(lambda st1,st2:st1+st2,sp_no_last_char,sp1))\n",
    "for x in result:\n",
    "    final=final+x+' '\n",
    "print (final)\n",
    "    "
   ]
  },
  {
   "cell_type": "code",
   "execution_count": 141,
   "metadata": {},
   "outputs": [
    {
     "name": "stdout",
     "output_type": "stream",
     "text": [
      "{'o': 23}\n"
     ]
    }
   ],
   "source": [
    "#59 Write a Python program to find the maximum occurring character in a given string. \n",
    "# Q. why dictionary is not getting cleared??\n",
    "string='aaaaaaaa dddddddd ererer hhhhhhhhhhhhh ooooooooooooooooooooooo'\n",
    "count=0\n",
    "dict_max={}\n",
    "for x in string:\n",
    "    if string.count(x)>count:\n",
    "        dict_max.clear()\n",
    "        count=string.count(x)\n",
    "        dict_max[x]=count\n",
    "print (dict_max)"
   ]
  },
  {
   "cell_type": "code",
   "execution_count": 138,
   "metadata": {},
   "outputs": [
    {
     "name": "stdout",
     "output_type": "stream",
     "text": [
      "aurora.com\n",
      "count of spaces: 7\n",
      "********aurora.com\n"
     ]
    }
   ],
   "source": [
    "# 58 Write a Python program to move spaces to the front of a given stringa='   aurora  . com '\n",
    "# 57 Write a Python program to remove spaces from a given string(output 'b' here)\n",
    "b=''\n",
    "count=a.count(' ')\n",
    "count\n",
    "for x in a:\n",
    "    if x!=' ':\n",
    "        b=b+x\n",
    "print(b)\n",
    "print('count of spaces:',count)\n",
    "print(b.rjust(len(b)+count+1,'*'))"
   ]
  },
  {
   "cell_type": "code",
   "execution_count": 89,
   "metadata": {
    "scrolled": true
   },
   "outputs": [
    {
     "name": "stdout",
     "output_type": "stream",
     "text": [
      "Sorted by values of dictionary: [('Both', 1), ('these', 1), ('issues', 1), ('are', 1), ('fixed', 1), ('by', 1), ('postponing', 1), ('the', 1), ('evaluation', 1), ('annotations', 1), ('a', 3), ('of', 6)]\n",
      "Second most repeated word: ('a', 3)\n"
     ]
    }
   ],
   "source": [
    "#56 Write a Python program to find the second most repeated word in a given string\n",
    "ip='Both of these issues are fixed by postponing the evaluation of annotations of of of of a a a'\n",
    "sp=ip.split()\n",
    "dict_sec_max={}\n",
    "sp1={x:sp.count(x) for x in sp}\n",
    "#print (sp1)\n",
    "val_sort=sorted(sp1.items(),key=lambda kv:kv[1])\n",
    "print ('Sorted by values of dictionary:',val_sort)\n",
    "print ('Second most repeated word:',val_sort[-2])"
   ]
  },
  {
   "cell_type": "code",
   "execution_count": null,
   "metadata": {},
   "outputs": [],
   "source": []
  },
  {
   "cell_type": "code",
   "execution_count": 192,
   "metadata": {},
   "outputs": [
    {
     "name": "stdout",
     "output_type": "stream",
     "text": [
      "{}\n"
     ]
    }
   ],
   "source": []
  },
  {
   "cell_type": "code",
   "execution_count": null,
   "metadata": {},
   "outputs": [],
   "source": []
  },
  {
   "cell_type": "code",
   "execution_count": null,
   "metadata": {},
   "outputs": [],
   "source": []
  },
  {
   "cell_type": "code",
   "execution_count": null,
   "metadata": {},
   "outputs": [],
   "source": []
  },
  {
   "cell_type": "code",
   "execution_count": 64,
   "metadata": {},
   "outputs": [
    {
     "name": "stdout",
     "output_type": "stream",
     "text": [
      "ef\n"
     ]
    }
   ],
   "source": [
    "#55 .Write a Python program to find the first repeated word in a given string\n",
    "string='ab cd ef g ef ab'\n",
    "sp=string.split()\n",
    "final=[]\n",
    "for x in sp:\n",
    "    if x in final:\n",
    "        print (x)\n",
    "        break\n",
    "    else:\n",
    "        final.append(x)\n",
    "#print (final)"
   ]
  },
  {
   "cell_type": "code",
   "execution_count": 63,
   "metadata": {},
   "outputs": [
    {
     "name": "stdout",
     "output_type": "stream",
     "text": [
      "e\n"
     ]
    }
   ],
   "source": [
    "#54 Write a Python program to find the first repeated character of a given string where the index of first occurrence is smallest\n",
    "string='abcdefea'\n",
    "final=' '\n",
    "for x in range(0,len(string)+1):\n",
    "    if string[x] in final:\n",
    "        print (string[x])\n",
    "        break\n",
    "    else:\n",
    "        final=final+string[x]"
   ]
  },
  {
   "cell_type": "code",
   "execution_count": 104,
   "metadata": {},
   "outputs": [
    {
     "name": "stdout",
     "output_type": "stream",
     "text": [
      "a\n"
     ]
    }
   ],
   "source": [
    "# 53 Write a Python program to find the first repeated character in a given string\n",
    "string='abcdab'\n",
    "final=' '\n",
    "for x in range(0,len(string)):\n",
    "    if string[x] in final:\n",
    "        print (string[x])\n",
    "        break\n",
    "    else:\n",
    "        final=final+string[x]"
   ]
  },
  {
   "cell_type": "code",
   "execution_count": 109,
   "metadata": {},
   "outputs": [
    {
     "name": "stdout",
     "output_type": "stream",
     "text": [
      "['x', 'y', 'z']\n",
      "xxx\n",
      "yyy\n",
      "zzz\n"
     ]
    }
   ],
   "source": [
    "# 52 Write a Python program to print all permutations with given repetition number of characters of a given string\n",
    "ip='xyz'\n",
    "sp=[x for x in ip]\n",
    "print (sp)\n",
    "pattern=3\n",
    "for letter in sp:\n",
    "    letter=letter*3\n",
    "    print (letter)\n",
    "    "
   ]
  },
  {
   "cell_type": "code",
   "execution_count": 113,
   "metadata": {},
   "outputs": [
    {
     "name": "stdout",
     "output_type": "stream",
     "text": [
      "e\n"
     ]
    }
   ],
   "source": [
    "#51 Write a Python program to find the first non-repeating character in given string\n",
    "string='abccaabbe'\n",
    "for x in string:\n",
    "    if string.count(x)==1:\n",
    "        print (x)\n",
    "        break\n",
    "    "
   ]
  },
  {
   "cell_type": "code",
   "execution_count": 119,
   "metadata": {},
   "outputs": [
    {
     "data": {
      "text/plain": [
       "['w,3,r,e,s,o,u,r,c', 'e']"
      ]
     },
     "execution_count": 119,
     "metadata": {},
     "output_type": "execute_result"
    }
   ],
   "source": [
    "# 50 Write a Python program to split a string on the last occurrence of the delimiter\n",
    "str1 = \"w,3,r,e,s,o,u,r,c,e\"\n",
    "str1.rsplit(',',1)"
   ]
  },
  {
   "cell_type": "code",
   "execution_count": 130,
   "metadata": {},
   "outputs": [
    {
     "name": "stdout",
     "output_type": "stream",
     "text": [
      "{'u': {1}, 'i': {1}, 'o': {2}, 'a': {1}, 'e': {1}}\n"
     ]
    }
   ],
   "source": [
    "# 49 Write a Python program to count and display the vowels of a given text\n",
    "vowels='aeiou'\n",
    "string='hi how are you'\n",
    "for x in string:\n",
    "    if x in vowels:\n",
    "        string1[x]={string.count(x)}\n",
    "print (string1)"
   ]
  },
  {
   "cell_type": "code",
   "execution_count": 135,
   "metadata": {},
   "outputs": [
    {
     "name": "stdout",
     "output_type": "stream",
     "text": [
      " 32,054.23\n"
     ]
    }
   ],
   "source": [
    "#48  Write a Python program to swap comma and dot in a string.\n",
    "#Sample string: \"32.054,23\"\n",
    "#Expected Output: \"32,054.23\"\n",
    "amount = \"32.054,23\"\n",
    "amount1=' '\n",
    "for x in amount:\n",
    "    if x.isdigit()==True:\n",
    "        amount1=amount1+x\n",
    "    elif x=='.':\n",
    "        x=','\n",
    "        amount1=amount1+x\n",
    "    elif x==',':\n",
    "        x='.'\n",
    "        amount1=amount1+x\n",
    "print (amount1)\n",
    "        "
   ]
  },
  {
   "cell_type": "code",
   "execution_count": 164,
   "metadata": {},
   "outputs": [
    {
     "name": "stdout",
     "output_type": "stream",
     "text": [
      "ABCDEEEEty\n"
     ]
    }
   ],
   "source": [
    "#47 Write a Python program to lowercase first n characters in a string\n",
    "string='AbcdEEEEty'\n",
    "string1=''\n",
    "n=5\n",
    "sliced=string[:n].upper()\n",
    "print (sliced+string[n:])"
   ]
  },
  {
   "cell_type": "code",
   "execution_count": 165,
   "metadata": {},
   "outputs": [
    {
     "data": {
      "text/plain": [
       "['a', 'e', 'i', 'o', 'u']"
      ]
     },
     "execution_count": 165,
     "metadata": {},
     "output_type": "execute_result"
    }
   ],
   "source": [
    "#46 Write a Python program to convert a string in a list\n",
    "a='aeiou'\n",
    "b=list(a)\n",
    "b"
   ]
  },
  {
   "cell_type": "code",
   "execution_count": 191,
   "metadata": {},
   "outputs": [
    {
     "name": "stdout",
     "output_type": "stream",
     "text": [
      "True\n"
     ]
    }
   ],
   "source": [
    "#45 Write a Python program to check if a string contains all letters of the alphabet\n",
    "import string\n",
    "alphabet = set(string.ascii_lowercase)\n",
    "#print (alphabet)\n",
    "string='acbdfeghijklmnopqr stuvwxy z'\n",
    "print (set(string.lower())>=alphabet)"
   ]
  },
  {
   "cell_type": "code",
   "execution_count": 194,
   "metadata": {},
   "outputs": [],
   "source": [
    "#44 Write a Python program to print the index of the character in a string. Go to the editor\n",
    "#Sample string: w3resource\n",
    "# expected Current character w position at 0\n",
    "def position(string,sub_str):\n",
    "    a=string.find(sub_str)\n",
    "    print (a)\n",
    "    return"
   ]
  },
  {
   "cell_type": "code",
   "execution_count": 196,
   "metadata": {},
   "outputs": [
    {
     "name": "stdout",
     "output_type": "stream",
     "text": [
      "1\n"
     ]
    }
   ],
   "source": [
    "position('w3resource','3')"
   ]
  },
  {
   "cell_type": "code",
   "execution_count": null,
   "metadata": {},
   "outputs": [],
   "source": []
  }
 ],
 "metadata": {
  "kernelspec": {
   "display_name": "Python 3",
   "language": "python",
   "name": "python3"
  },
  "language_info": {
   "codemirror_mode": {
    "name": "ipython",
    "version": 3
   },
   "file_extension": ".py",
   "mimetype": "text/x-python",
   "name": "python",
   "nbconvert_exporter": "python",
   "pygments_lexer": "ipython3",
   "version": "3.6.5"
  }
 },
 "nbformat": 4,
 "nbformat_minor": 2
}
