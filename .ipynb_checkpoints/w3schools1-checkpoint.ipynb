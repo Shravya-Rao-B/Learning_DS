{
 "cells": [
  {
   "cell_type": "code",
   "execution_count": 21,
   "metadata": {},
   "outputs": [],
   "source": [
    "#1.Write a Python program to calculate the length of a string\n",
    "def length(string):\n",
    "    return len(string)"
   ]
  },
  {
   "cell_type": "code",
   "execution_count": 22,
   "metadata": {},
   "outputs": [
    {
     "data": {
      "text/plain": [
       "12"
      ]
     },
     "execution_count": 22,
     "metadata": {},
     "output_type": "execute_result"
    }
   ],
   "source": [
    "length('hello o o o ')"
   ]
  },
  {
   "cell_type": "code",
   "execution_count": 29,
   "metadata": {},
   "outputs": [
    {
     "name": "stdout",
     "output_type": "stream",
     "text": [
      "{'g': 2, 'o': 3, 'l': 1, 'e': 1, '.': 1, 'c': 1, 'm': 1}\n"
     ]
    }
   ],
   "source": [
    "#2.Sample String : google.com'\n",
    "#Expected Result : {'o': 3, 'g': 2, '.': 1, 'e': 1, 'l': 1, 'm': 1, 'c': 1}\n",
    "g='google.com'\n",
    "d={x:g.count(x) for x in g}\n",
    "print (d)"
   ]
  },
  {
   "cell_type": "code",
   "execution_count": 25,
   "metadata": {},
   "outputs": [],
   "source": [
    "#3.Sample String : 'w3resource'\n",
    "#Expected Result : 'w3ce'\n",
    "#Sample String : 'w3'\n",
    "#Expected Result : 'w3w3'\n",
    "#Sample String : ' w'\n",
    "#Expected Result : Empty String \n",
    "def string_pattern(string):\n",
    "    a=len(string)\n",
    "    b=a-2\n",
    "    if a<2:\n",
    "        return print(string)\n",
    "    elif a==2:\n",
    "        return string+string\n",
    "    else:\n",
    "        return string[:-b]+string[b:]\n",
    "    "
   ]
  },
  {
   "cell_type": "code",
   "execution_count": 28,
   "metadata": {},
   "outputs": [
    {
     "data": {
      "text/plain": [
       "'wewe'"
      ]
     },
     "execution_count": 28,
     "metadata": {},
     "output_type": "execute_result"
    }
   ],
   "source": [
    "string_pattern('we')"
   ]
  },
  {
   "cell_type": "code",
   "execution_count": 34,
   "metadata": {},
   "outputs": [],
   "source": [
    "#4.Sample String : 'restart'\n",
    "#Expected Result : 'resta$t'\n",
    "def replc(string):\n",
    "    a=string[0]\n",
    "    for i in string:\n",
    "        b=string.replace(string[0],'$')\n",
    "        c=b[1:]\n",
    "        return a+c\n",
    "        "
   ]
  },
  {
   "cell_type": "code",
   "execution_count": 35,
   "metadata": {},
   "outputs": [
    {
     "data": {
      "text/plain": [
       "'resta$t'"
      ]
     },
     "execution_count": 35,
     "metadata": {},
     "output_type": "execute_result"
    }
   ],
   "source": [
    "replc('restart')"
   ]
  },
  {
   "cell_type": "code",
   "execution_count": 55,
   "metadata": {},
   "outputs": [
    {
     "data": {
      "text/plain": [
       "'xyc abz'"
      ]
     },
     "execution_count": 55,
     "metadata": {},
     "output_type": "execute_result"
    }
   ],
   "source": [
    "#5.Sample String : 'abc', 'xyz' \n",
    "#Expected Result : 'xyc abz'\n",
    "a='abc','xyz'\n",
    "b=a[1][:-1]+a[0][2:]+' '+a[0][:-1]+a[1][2:]\n",
    "b"
   ]
  },
  {
   "cell_type": "code",
   "execution_count": 56,
   "metadata": {},
   "outputs": [],
   "source": [
    "# 6.Sample String : 'abc'\n",
    "#Expected Result : 'abcing' \n",
    "#Sample String : 'string'\n",
    "#Expected Result : 'stringly'\n",
    "def alter_word(string):\n",
    "    a=len(string)\n",
    "    if a<3:\n",
    "        return string\n",
    "    elif a>3 and string[3:]=='ing':\n",
    "        return string+'ly'\n",
    "    else:\n",
    "        return string+'ing'"
   ]
  },
  {
   "cell_type": "code",
   "execution_count": 59,
   "metadata": {},
   "outputs": [
    {
     "data": {
      "text/plain": [
       "'stringly'"
      ]
     },
     "execution_count": 59,
     "metadata": {},
     "output_type": "execute_result"
    }
   ],
   "source": [
    "alter_word('string')"
   ]
  },
  {
   "cell_type": "code",
   "execution_count": 65,
   "metadata": {},
   "outputs": [
    {
     "data": {
      "text/plain": [
       "'buying'"
      ]
     },
     "execution_count": 65,
     "metadata": {},
     "output_type": "execute_result"
    }
   ],
   "source": [
    "alter_word('buy')"
   ]
  },
  {
   "cell_type": "code",
   "execution_count": 76,
   "metadata": {},
   "outputs": [
    {
     "name": "stdout",
     "output_type": "stream",
     "text": [
      "The lyrics is good!\n"
     ]
    }
   ],
   "source": [
    "# 7. Sample String : 'The lyrics is not that poor!'\n",
    "#'The lyrics is poor!'\n",
    "#Expected Result : 'The lyrics is good!'\n",
    "#'The lyrics is poor!'\n",
    "string='The lyrics is not poor'\n",
    "a=string.find('not')\n",
    "b=string.find('poor')\n",
    "if a<b and a!=-1:\n",
    "    c=string[:a]+'good!'\n",
    "    print(c)\n",
    "else:\n",
    "    print(string)"
   ]
  },
  {
   "cell_type": "code",
   "execution_count": 77,
   "metadata": {},
   "outputs": [
    {
     "name": "stdout",
     "output_type": "stream",
     "text": [
      "beautiful : 9\n"
     ]
    }
   ],
   "source": [
    "#8.Write a Python function that takes a list of words and returns the length of the longest one\n",
    "word_list=['basket','butter','bread','beautiful']\n",
    "length=0\n",
    "for x in word_list:\n",
    "    if len(x)>length:\n",
    "        length=len(x)\n",
    "    else:\n",
    "        length==length\n",
    "print (x,':',length)"
   ]
  },
  {
   "cell_type": "code",
   "execution_count": null,
   "metadata": {},
   "outputs": [],
   "source": [
    "# 9. Write a Python program to remove the nth index character from a nonempty string\n",
    "string='beautiful'\n",
    "n=int(input(\"Enter the index to be removed: \"))\n",
    "a=string[:n]+string[n:]\n",
    "a"
   ]
  },
  {
   "cell_type": "code",
   "execution_count": null,
   "metadata": {},
   "outputs": [],
   "source": []
  },
  {
   "cell_type": "code",
   "execution_count": null,
   "metadata": {},
   "outputs": [],
   "source": []
  }
 ],
 "metadata": {
  "kernelspec": {
   "display_name": "Python 3",
   "language": "python",
   "name": "python3"
  },
  "language_info": {
   "codemirror_mode": {
    "name": "ipython",
    "version": 3
   },
   "file_extension": ".py",
   "mimetype": "text/x-python",
   "name": "python",
   "nbconvert_exporter": "python",
   "pygments_lexer": "ipython3",
   "version": "3.6.5"
  }
 },
 "nbformat": 4,
 "nbformat_minor": 2
}
