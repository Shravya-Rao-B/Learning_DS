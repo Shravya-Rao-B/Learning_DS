{
 "cells": [
  {
   "cell_type": "code",
   "execution_count": 3,
   "metadata": {},
   "outputs": [],
   "source": [
    "#Find Cost of Tile to Cover W x H Floor - Calculate the total cost of tile it would take to cover a floor plan of width \n",
    "#and height, using a cost entered by the user.\n",
    "\n",
    "def tile_cost(length,height):\n",
    "    cost_per_tile=int(input(\"enter the cost per tile:\"))\n",
    "    return print(\"Total flooring cost:\",length*height*cost_per_tile)"
   ]
  },
  {
   "cell_type": "code",
   "execution_count": 7,
   "metadata": {},
   "outputs": [
    {
     "name": "stdout",
     "output_type": "stream",
     "text": [
      "enter the cost per tile:15\n",
      "Total flooring cost: 2520\n"
     ]
    }
   ],
   "source": [
    "flooring_cost(12,14)"
   ]
  },
  {
   "cell_type": "code",
   "execution_count": 8,
   "metadata": {},
   "outputs": [],
   "source": [
    "#Multiply the length by the width to calculate the square footage of the room. \n",
    "#For instance, if your room is 12 feet by 14 feet, it is a total 168 square feet in size.\n",
    "#Multiply the square footage by 10 percent and round up. \n",
    "#Add that number to the total square feet of the room. \n",
    "#For example, 10 percent of 168 is 16.8. Rounded up, the number becomes 17. \n",
    "#Adding 17 to 168 equals 185. This is the total number of square feet of tile you need. \n",
    "#The extra 10 percent takes into account the staggered joints and end pieces of the floor tile.\n",
    "\n",
    "def tile_cost1(length,height):\n",
    "    area=length*height\n",
    "    num_tiles=round(area*0.5)+area\n",
    "    cost_per_tile=(int(input('enter the cost per tile:')))\n",
    "    return num_tiles*cost_per_tile"
   ]
  },
  {
   "cell_type": "code",
   "execution_count": 9,
   "metadata": {},
   "outputs": [
    {
     "name": "stdout",
     "output_type": "stream",
     "text": [
      "enter the cost per tile:15\n"
     ]
    },
    {
     "data": {
      "text/plain": [
       "3780"
      ]
     },
     "execution_count": 9,
     "metadata": {},
     "output_type": "execute_result"
    }
   ],
   "source": [
    "tile_cost1(12,14)"
   ]
  },
  {
   "cell_type": "code",
   "execution_count": null,
   "metadata": {},
   "outputs": [],
   "source": []
  }
 ],
 "metadata": {
  "kernelspec": {
   "display_name": "Python 3",
   "language": "python",
   "name": "python3"
  },
  "language_info": {
   "codemirror_mode": {
    "name": "ipython",
    "version": 3
   },
   "file_extension": ".py",
   "mimetype": "text/x-python",
   "name": "python",
   "nbconvert_exporter": "python",
   "pygments_lexer": "ipython3",
   "version": "3.6.5"
  }
 },
 "nbformat": 4,
 "nbformat_minor": 2
}
